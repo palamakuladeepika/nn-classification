{
  "nbformat": 4,
  "nbformat_minor": 0,
  "metadata": {
    "colab": {
      "provenance": []
    },
    "kernelspec": {
      "name": "python3",
      "display_name": "Python 3"
    },
    "language_info": {
      "name": "python"
    }
  },
  "cells": [
    {
      "cell_type": "code",
      "source": [
        "import pandas as pd\n",
        "from sklearn.model_selection import train_test_split\n",
        "from tensorflow.keras.models import Sequential\n",
        "from tensorflow.keras.models import load_model\n",
        "import pickle\n",
        "from tensorflow.keras.layers import Dense\n",
        "from tensorflow.keras.layers import Dropout\n",
        "from tensorflow.keras.layers import BatchNormalization\n",
        "import tensorflow as tf\n",
        "import seaborn as sns\n",
        "from tensorflow.keras.callbacks import EarlyStopping\n",
        "from sklearn.preprocessing import MinMaxScaler\n",
        "from sklearn.preprocessing import LabelEncoder\n",
        "from sklearn.preprocessing import OneHotEncoder\n",
        "from sklearn.preprocessing import OrdinalEncoder\n",
        "from sklearn.metrics import classification_report,confusion_matrix\n",
        "import numpy as np\n",
        "import matplotlib.pylab as plt"
      ],
      "metadata": {
        "id": "Pt7QLyTmH1m4"
      },
      "execution_count": 1,
      "outputs": []
    },
    {
      "cell_type": "code",
      "source": [
        "from google.colab import drive\n",
        "drive.mount('/content/drive')"
      ],
      "metadata": {
        "colab": {
          "base_uri": "https://localhost:8080/"
        },
        "id": "jKJRynJ2CTYM",
        "outputId": "3631d466-3d74-4637-a1e0-3a789d57ff4e"
      },
      "execution_count": 2,
      "outputs": [
        {
          "output_type": "stream",
          "name": "stdout",
          "text": [
            "Mounted at /content/drive\n"
          ]
        }
      ]
    },
    {
      "cell_type": "code",
      "source": [
        "customer_df = pd.read_csv('/content/drive/MyDrive/customers.csv')\n",
        "customer_df_cleaned=customer_df.dropna(axis=0)"
      ],
      "metadata": {
        "id": "zzN_wvO6BNMY"
      },
      "execution_count": 3,
      "outputs": []
    },
    {
      "cell_type": "code",
      "source": [
        "customer_df.columns"
      ],
      "metadata": {
        "colab": {
          "base_uri": "https://localhost:8080/"
        },
        "id": "xbUAlaX3NQqp",
        "outputId": "ff15aeee-aa48-4069-fea0-6e1dd0095144"
      },
      "execution_count": 4,
      "outputs": [
        {
          "output_type": "execute_result",
          "data": {
            "text/plain": [
              "Index(['ID', 'Gender', 'Ever_Married', 'Age', 'Graduated', 'Profession',\n",
              "       'Work_Experience', 'Spending_Score', 'Family_Size', 'Var_1',\n",
              "       'Segmentation'],\n",
              "      dtype='object')"
            ]
          },
          "metadata": {},
          "execution_count": 4
        }
      ]
    },
    {
      "cell_type": "code",
      "source": [
        "customer_df.shape"
      ],
      "metadata": {
        "colab": {
          "base_uri": "https://localhost:8080/"
        },
        "id": "uO51cYHVNVFp",
        "outputId": "34abb0ba-7f80-41c8-975b-4ed56c28f6b3"
      },
      "execution_count": 5,
      "outputs": [
        {
          "output_type": "execute_result",
          "data": {
            "text/plain": [
              "(10695, 11)"
            ]
          },
          "metadata": {},
          "execution_count": 5
        }
      ]
    },
    {
      "cell_type": "code",
      "source": [
        "customer_df.isnull().sum()"
      ],
      "metadata": {
        "colab": {
          "base_uri": "https://localhost:8080/"
        },
        "id": "Jts9ENA5NXX0",
        "outputId": "54370d1c-e6e0-4414-e6f9-9fa0d474052d"
      },
      "execution_count": 6,
      "outputs": [
        {
          "output_type": "execute_result",
          "data": {
            "text/plain": [
              "ID                    0\n",
              "Gender                0\n",
              "Ever_Married        190\n",
              "Age                   0\n",
              "Graduated           102\n",
              "Profession          162\n",
              "Work_Experience    1098\n",
              "Spending_Score        0\n",
              "Family_Size         448\n",
              "Var_1               108\n",
              "Segmentation          0\n",
              "dtype: int64"
            ]
          },
          "metadata": {},
          "execution_count": 6
        }
      ]
    },
    {
      "cell_type": "code",
      "source": [
        "customer_df_cleaned = customer_df.dropna(axis=0)"
      ],
      "metadata": {
        "id": "Ex3tk39aNeql"
      },
      "execution_count": 7,
      "outputs": []
    },
    {
      "cell_type": "code",
      "source": [
        "customer_df_cleaned.isnull().sum()"
      ],
      "metadata": {
        "colab": {
          "base_uri": "https://localhost:8080/"
        },
        "id": "KULy6L8-NiwR",
        "outputId": "d55ce147-1249-448c-efad-2cd5e5b10822"
      },
      "execution_count": 8,
      "outputs": [
        {
          "output_type": "execute_result",
          "data": {
            "text/plain": [
              "ID                 0\n",
              "Gender             0\n",
              "Ever_Married       0\n",
              "Age                0\n",
              "Graduated          0\n",
              "Profession         0\n",
              "Work_Experience    0\n",
              "Spending_Score     0\n",
              "Family_Size        0\n",
              "Var_1              0\n",
              "Segmentation       0\n",
              "dtype: int64"
            ]
          },
          "metadata": {},
          "execution_count": 8
        }
      ]
    },
    {
      "cell_type": "code",
      "source": [
        "customer_df_cleaned.shape"
      ],
      "metadata": {
        "colab": {
          "base_uri": "https://localhost:8080/"
        },
        "id": "5QRGgx2vNmYH",
        "outputId": "48f604c8-14b9-485d-91ae-b72c7c1718ea"
      },
      "execution_count": 9,
      "outputs": [
        {
          "output_type": "execute_result",
          "data": {
            "text/plain": [
              "(8819, 11)"
            ]
          },
          "metadata": {},
          "execution_count": 9
        }
      ]
    },
    {
      "cell_type": "code",
      "source": [
        "customer_df_cleaned.dtypes"
      ],
      "metadata": {
        "colab": {
          "base_uri": "https://localhost:8080/"
        },
        "id": "uX7kGdfwNpWN",
        "outputId": "64c76c1e-8c91-4e3d-f08b-18060185077f"
      },
      "execution_count": 10,
      "outputs": [
        {
          "output_type": "execute_result",
          "data": {
            "text/plain": [
              "ID                   int64\n",
              "Gender              object\n",
              "Ever_Married        object\n",
              "Age                  int64\n",
              "Graduated           object\n",
              "Profession          object\n",
              "Work_Experience    float64\n",
              "Spending_Score      object\n",
              "Family_Size        float64\n",
              "Var_1               object\n",
              "Segmentation        object\n",
              "dtype: object"
            ]
          },
          "metadata": {},
          "execution_count": 10
        }
      ]
    },
    {
      "cell_type": "code",
      "source": [
        "customer_df_cleaned['Gender'].unique()"
      ],
      "metadata": {
        "colab": {
          "base_uri": "https://localhost:8080/"
        },
        "id": "ZOLZWD9WNsxt",
        "outputId": "5a36f9ef-27f1-4e8e-9705-49d87cbfb87f"
      },
      "execution_count": 11,
      "outputs": [
        {
          "output_type": "execute_result",
          "data": {
            "text/plain": [
              "array(['Male', 'Female'], dtype=object)"
            ]
          },
          "metadata": {},
          "execution_count": 11
        }
      ]
    },
    {
      "cell_type": "code",
      "source": [
        "customer_df_cleaned['Ever_Married'].unique()"
      ],
      "metadata": {
        "colab": {
          "base_uri": "https://localhost:8080/"
        },
        "id": "3-hbaZW6Nvy3",
        "outputId": "4840826c-621d-4c50-9296-c0586f0f4c65"
      },
      "execution_count": 12,
      "outputs": [
        {
          "output_type": "execute_result",
          "data": {
            "text/plain": [
              "array(['No', 'Yes'], dtype=object)"
            ]
          },
          "metadata": {},
          "execution_count": 12
        }
      ]
    },
    {
      "cell_type": "code",
      "source": [
        "customer_df_cleaned['Graduated'].unique()"
      ],
      "metadata": {
        "colab": {
          "base_uri": "https://localhost:8080/"
        },
        "id": "IhyeNU92Nyp4",
        "outputId": "e2d6926d-69cf-4ff3-c0e7-2bac394781ea"
      },
      "execution_count": 13,
      "outputs": [
        {
          "output_type": "execute_result",
          "data": {
            "text/plain": [
              "array(['No', 'Yes'], dtype=object)"
            ]
          },
          "metadata": {},
          "execution_count": 13
        }
      ]
    },
    {
      "cell_type": "code",
      "source": [
        "customer_df_cleaned['Profession'].unique()\n"
      ],
      "metadata": {
        "colab": {
          "base_uri": "https://localhost:8080/"
        },
        "id": "BDYKBCZiN1jc",
        "outputId": "5967c494-47c1-45c6-f5ea-df759ef0854f"
      },
      "execution_count": 14,
      "outputs": [
        {
          "output_type": "execute_result",
          "data": {
            "text/plain": [
              "array(['Healthcare', 'Engineer', 'Lawyer', 'Artist', 'Doctor',\n",
              "       'Homemaker', 'Entertainment', 'Marketing', 'Executive'],\n",
              "      dtype=object)"
            ]
          },
          "metadata": {},
          "execution_count": 14
        }
      ]
    },
    {
      "cell_type": "code",
      "source": [
        "customer_df_cleaned['Spending_Score'].unique()"
      ],
      "metadata": {
        "colab": {
          "base_uri": "https://localhost:8080/"
        },
        "id": "iy4DgKkgN3nr",
        "outputId": "1ebbcc34-f345-4437-d3d7-963114534a01"
      },
      "execution_count": 15,
      "outputs": [
        {
          "output_type": "execute_result",
          "data": {
            "text/plain": [
              "array(['Low', 'High', 'Average'], dtype=object)"
            ]
          },
          "metadata": {},
          "execution_count": 15
        }
      ]
    },
    {
      "cell_type": "code",
      "source": [
        "customer_df_cleaned['Var_1'].unique()"
      ],
      "metadata": {
        "colab": {
          "base_uri": "https://localhost:8080/"
        },
        "id": "aKDxEccEN6nc",
        "outputId": "e93159df-3b2b-46fd-ac56-dcba5a718977"
      },
      "execution_count": 16,
      "outputs": [
        {
          "output_type": "execute_result",
          "data": {
            "text/plain": [
              "array(['Cat_4', 'Cat_6', 'Cat_7', 'Cat_3', 'Cat_1', 'Cat_2', 'Cat_5'],\n",
              "      dtype=object)"
            ]
          },
          "metadata": {},
          "execution_count": 16
        }
      ]
    },
    {
      "cell_type": "code",
      "source": [
        "customer_df_cleaned['Segmentation'].unique()"
      ],
      "metadata": {
        "colab": {
          "base_uri": "https://localhost:8080/"
        },
        "id": "u5kqfjrLN9EY",
        "outputId": "1aaf8820-35d5-42bc-dafa-d44d517c5c75"
      },
      "execution_count": 17,
      "outputs": [
        {
          "output_type": "execute_result",
          "data": {
            "text/plain": [
              "array(['D', 'B', 'C', 'A'], dtype=object)"
            ]
          },
          "metadata": {},
          "execution_count": 17
        }
      ]
    },
    {
      "cell_type": "code",
      "source": [
        "categories_list=[['Male', 'Female'],\n",
        "           ['No', 'Yes'],\n",
        "           ['No', 'Yes'],\n",
        "           ['Healthcare', 'Engineer', 'Lawyer', 'Artist', 'Doctor',\n",
        "            'Homemaker', 'Entertainment', 'Marketing', 'Executive'],\n",
        "           ['Low', 'Average', 'High']\n",
        "           ]\n",
        "enc = OrdinalEncoder(categories=categories_list)"
      ],
      "metadata": {
        "id": "hXnHMfoCN_LG"
      },
      "execution_count": 18,
      "outputs": []
    },
    {
      "cell_type": "code",
      "source": [
        "customers_1 = customer_df_cleaned.copy()"
      ],
      "metadata": {
        "id": "pLMvqVcROCX_"
      },
      "execution_count": 19,
      "outputs": []
    },
    {
      "cell_type": "code",
      "source": [
        "customers_1[['Gender',\n",
        "             'Ever_Married',\n",
        "              'Graduated','Profession',\n",
        "              'Spending_Score']] = enc.fit_transform(customers_1[['Gender',\n",
        "                                                                 'Ever_Married',\n",
        "                                                                 'Graduated','Profession',\n",
        "                                                                 'Spending_Score']])"
      ],
      "metadata": {
        "id": "fNEW3tvLOEem"
      },
      "execution_count": 20,
      "outputs": []
    },
    {
      "cell_type": "code",
      "source": [
        "customers_1.dtypes"
      ],
      "metadata": {
        "colab": {
          "base_uri": "https://localhost:8080/"
        },
        "id": "cvhNtde3OIVE",
        "outputId": "7af03790-7357-47a0-defd-fda8f29923c7"
      },
      "execution_count": 21,
      "outputs": [
        {
          "output_type": "execute_result",
          "data": {
            "text/plain": [
              "ID                   int64\n",
              "Gender             float64\n",
              "Ever_Married       float64\n",
              "Age                  int64\n",
              "Graduated          float64\n",
              "Profession         float64\n",
              "Work_Experience    float64\n",
              "Spending_Score     float64\n",
              "Family_Size        float64\n",
              "Var_1               object\n",
              "Segmentation        object\n",
              "dtype: object"
            ]
          },
          "metadata": {},
          "execution_count": 21
        }
      ]
    },
    {
      "cell_type": "code",
      "source": [
        "le = LabelEncoder()"
      ],
      "metadata": {
        "id": "l7Udq0_lOVZG"
      },
      "execution_count": 22,
      "outputs": []
    },
    {
      "cell_type": "code",
      "source": [
        "customers_1['Segmentation'] = le.fit_transform(customers_1['Segmentation'])"
      ],
      "metadata": {
        "id": "Gi-d79dJOYBF"
      },
      "execution_count": 23,
      "outputs": []
    },
    {
      "cell_type": "code",
      "source": [
        "customers_1.dtypes"
      ],
      "metadata": {
        "colab": {
          "base_uri": "https://localhost:8080/"
        },
        "id": "JMoD6VRgOaQX",
        "outputId": "29582400-23f2-4048-b080-9305cdb88e0a"
      },
      "execution_count": 24,
      "outputs": [
        {
          "output_type": "execute_result",
          "data": {
            "text/plain": [
              "ID                   int64\n",
              "Gender             float64\n",
              "Ever_Married       float64\n",
              "Age                  int64\n",
              "Graduated          float64\n",
              "Profession         float64\n",
              "Work_Experience    float64\n",
              "Spending_Score     float64\n",
              "Family_Size        float64\n",
              "Var_1               object\n",
              "Segmentation         int64\n",
              "dtype: object"
            ]
          },
          "metadata": {},
          "execution_count": 24
        }
      ]
    },
    {
      "cell_type": "code",
      "source": [
        "customers_1 = customers_1.drop('ID',axis=1)\n",
        "customers_1 = customers_1.drop('Var_1',axis=1)"
      ],
      "metadata": {
        "id": "zeRZ96L2Oet8"
      },
      "execution_count": 25,
      "outputs": []
    },
    {
      "cell_type": "code",
      "source": [
        "customers_1.dtypes"
      ],
      "metadata": {
        "colab": {
          "base_uri": "https://localhost:8080/"
        },
        "id": "LeePnX60OgLJ",
        "outputId": "85571eaf-e1f6-4c46-9acc-33dff4a0d2d1"
      },
      "execution_count": 26,
      "outputs": [
        {
          "output_type": "execute_result",
          "data": {
            "text/plain": [
              "Gender             float64\n",
              "Ever_Married       float64\n",
              "Age                  int64\n",
              "Graduated          float64\n",
              "Profession         float64\n",
              "Work_Experience    float64\n",
              "Spending_Score     float64\n",
              "Family_Size        float64\n",
              "Segmentation         int64\n",
              "dtype: object"
            ]
          },
          "metadata": {},
          "execution_count": 26
        }
      ]
    },
    {
      "cell_type": "code",
      "source": [
        "customers_1['Segmentation'].unique()"
      ],
      "metadata": {
        "colab": {
          "base_uri": "https://localhost:8080/"
        },
        "id": "H8mNajS7OimP",
        "outputId": "885c11a9-a619-41d8-c8c4-aa4802cc13d8"
      },
      "execution_count": 27,
      "outputs": [
        {
          "output_type": "execute_result",
          "data": {
            "text/plain": [
              "array([3, 1, 2, 0])"
            ]
          },
          "metadata": {},
          "execution_count": 27
        }
      ]
    },
    {
      "cell_type": "code",
      "source": [
        "X=customers_1[['Gender','Ever_Married','Age','Graduated','Profession','Work_Experience','Spending_Score','Family_Size']].values"
      ],
      "metadata": {
        "id": "RLF8L27sOlJL"
      },
      "execution_count": 28,
      "outputs": []
    },
    {
      "cell_type": "code",
      "source": [
        "y1 = customers_1[['Segmentation']].values"
      ],
      "metadata": {
        "id": "dvWaUyPoOoju"
      },
      "execution_count": 29,
      "outputs": []
    },
    {
      "cell_type": "code",
      "source": [
        "one_hot_enc = OneHotEncoder()"
      ],
      "metadata": {
        "id": "av-JXFnZOq1Q"
      },
      "execution_count": 30,
      "outputs": []
    },
    {
      "cell_type": "code",
      "source": [
        "one_hot_enc.fit(y1)"
      ],
      "metadata": {
        "colab": {
          "base_uri": "https://localhost:8080/",
          "height": 74
        },
        "id": "bvr-decdOtKI",
        "outputId": "3b3d4bde-e18b-493b-a20d-e9783a1afc75"
      },
      "execution_count": 31,
      "outputs": [
        {
          "output_type": "execute_result",
          "data": {
            "text/plain": [
              "OneHotEncoder()"
            ],
            "text/html": [
              "<style>#sk-container-id-1 {color: black;background-color: white;}#sk-container-id-1 pre{padding: 0;}#sk-container-id-1 div.sk-toggleable {background-color: white;}#sk-container-id-1 label.sk-toggleable__label {cursor: pointer;display: block;width: 100%;margin-bottom: 0;padding: 0.3em;box-sizing: border-box;text-align: center;}#sk-container-id-1 label.sk-toggleable__label-arrow:before {content: \"▸\";float: left;margin-right: 0.25em;color: #696969;}#sk-container-id-1 label.sk-toggleable__label-arrow:hover:before {color: black;}#sk-container-id-1 div.sk-estimator:hover label.sk-toggleable__label-arrow:before {color: black;}#sk-container-id-1 div.sk-toggleable__content {max-height: 0;max-width: 0;overflow: hidden;text-align: left;background-color: #f0f8ff;}#sk-container-id-1 div.sk-toggleable__content pre {margin: 0.2em;color: black;border-radius: 0.25em;background-color: #f0f8ff;}#sk-container-id-1 input.sk-toggleable__control:checked~div.sk-toggleable__content {max-height: 200px;max-width: 100%;overflow: auto;}#sk-container-id-1 input.sk-toggleable__control:checked~label.sk-toggleable__label-arrow:before {content: \"▾\";}#sk-container-id-1 div.sk-estimator input.sk-toggleable__control:checked~label.sk-toggleable__label {background-color: #d4ebff;}#sk-container-id-1 div.sk-label input.sk-toggleable__control:checked~label.sk-toggleable__label {background-color: #d4ebff;}#sk-container-id-1 input.sk-hidden--visually {border: 0;clip: rect(1px 1px 1px 1px);clip: rect(1px, 1px, 1px, 1px);height: 1px;margin: -1px;overflow: hidden;padding: 0;position: absolute;width: 1px;}#sk-container-id-1 div.sk-estimator {font-family: monospace;background-color: #f0f8ff;border: 1px dotted black;border-radius: 0.25em;box-sizing: border-box;margin-bottom: 0.5em;}#sk-container-id-1 div.sk-estimator:hover {background-color: #d4ebff;}#sk-container-id-1 div.sk-parallel-item::after {content: \"\";width: 100%;border-bottom: 1px solid gray;flex-grow: 1;}#sk-container-id-1 div.sk-label:hover label.sk-toggleable__label {background-color: #d4ebff;}#sk-container-id-1 div.sk-serial::before {content: \"\";position: absolute;border-left: 1px solid gray;box-sizing: border-box;top: 0;bottom: 0;left: 50%;z-index: 0;}#sk-container-id-1 div.sk-serial {display: flex;flex-direction: column;align-items: center;background-color: white;padding-right: 0.2em;padding-left: 0.2em;position: relative;}#sk-container-id-1 div.sk-item {position: relative;z-index: 1;}#sk-container-id-1 div.sk-parallel {display: flex;align-items: stretch;justify-content: center;background-color: white;position: relative;}#sk-container-id-1 div.sk-item::before, #sk-container-id-1 div.sk-parallel-item::before {content: \"\";position: absolute;border-left: 1px solid gray;box-sizing: border-box;top: 0;bottom: 0;left: 50%;z-index: -1;}#sk-container-id-1 div.sk-parallel-item {display: flex;flex-direction: column;z-index: 1;position: relative;background-color: white;}#sk-container-id-1 div.sk-parallel-item:first-child::after {align-self: flex-end;width: 50%;}#sk-container-id-1 div.sk-parallel-item:last-child::after {align-self: flex-start;width: 50%;}#sk-container-id-1 div.sk-parallel-item:only-child::after {width: 0;}#sk-container-id-1 div.sk-dashed-wrapped {border: 1px dashed gray;margin: 0 0.4em 0.5em 0.4em;box-sizing: border-box;padding-bottom: 0.4em;background-color: white;}#sk-container-id-1 div.sk-label label {font-family: monospace;font-weight: bold;display: inline-block;line-height: 1.2em;}#sk-container-id-1 div.sk-label-container {text-align: center;}#sk-container-id-1 div.sk-container {/* jupyter's `normalize.less` sets `[hidden] { display: none; }` but bootstrap.min.css set `[hidden] { display: none !important; }` so we also need the `!important` here to be able to override the default hidden behavior on the sphinx rendered scikit-learn.org. See: https://github.com/scikit-learn/scikit-learn/issues/21755 */display: inline-block !important;position: relative;}#sk-container-id-1 div.sk-text-repr-fallback {display: none;}</style><div id=\"sk-container-id-1\" class=\"sk-top-container\"><div class=\"sk-text-repr-fallback\"><pre>OneHotEncoder()</pre><b>In a Jupyter environment, please rerun this cell to show the HTML representation or trust the notebook. <br />On GitHub, the HTML representation is unable to render, please try loading this page with nbviewer.org.</b></div><div class=\"sk-container\" hidden><div class=\"sk-item\"><div class=\"sk-estimator sk-toggleable\"><input class=\"sk-toggleable__control sk-hidden--visually\" id=\"sk-estimator-id-1\" type=\"checkbox\" checked><label for=\"sk-estimator-id-1\" class=\"sk-toggleable__label sk-toggleable__label-arrow\">OneHotEncoder</label><div class=\"sk-toggleable__content\"><pre>OneHotEncoder()</pre></div></div></div></div></div>"
            ]
          },
          "metadata": {},
          "execution_count": 31
        }
      ]
    },
    {
      "cell_type": "code",
      "source": [
        "y1.shape"
      ],
      "metadata": {
        "colab": {
          "base_uri": "https://localhost:8080/"
        },
        "id": "6nsDTBNjOus0",
        "outputId": "3191e14e-3328-46a1-dc3e-3225af29d9ed"
      },
      "execution_count": 32,
      "outputs": [
        {
          "output_type": "execute_result",
          "data": {
            "text/plain": [
              "(8819, 1)"
            ]
          },
          "metadata": {},
          "execution_count": 32
        }
      ]
    },
    {
      "cell_type": "code",
      "source": [
        "y = one_hot_enc.transform(y1).toarray()"
      ],
      "metadata": {
        "id": "L5fq0flxOxf5"
      },
      "execution_count": 33,
      "outputs": []
    },
    {
      "cell_type": "code",
      "source": [
        "y.shape"
      ],
      "metadata": {
        "colab": {
          "base_uri": "https://localhost:8080/"
        },
        "id": "gS-es-oQOzn6",
        "outputId": "39e469d9-ecef-41ac-d2d0-f1bf53146c5c"
      },
      "execution_count": 34,
      "outputs": [
        {
          "output_type": "execute_result",
          "data": {
            "text/plain": [
              "(8819, 4)"
            ]
          },
          "metadata": {},
          "execution_count": 34
        }
      ]
    },
    {
      "cell_type": "code",
      "source": [
        "y1[0]"
      ],
      "metadata": {
        "colab": {
          "base_uri": "https://localhost:8080/"
        },
        "id": "dm89EQNzOzs_",
        "outputId": "44cfc985-dfe4-4a76-fe9c-cce06d596e50"
      },
      "execution_count": 35,
      "outputs": [
        {
          "output_type": "execute_result",
          "data": {
            "text/plain": [
              "array([3])"
            ]
          },
          "metadata": {},
          "execution_count": 35
        }
      ]
    },
    {
      "cell_type": "code",
      "source": [
        "y[0]"
      ],
      "metadata": {
        "colab": {
          "base_uri": "https://localhost:8080/"
        },
        "id": "759GnRnoO46U",
        "outputId": "414dff6d-2189-4058-b310-e364a1e9e194"
      },
      "execution_count": 36,
      "outputs": [
        {
          "output_type": "execute_result",
          "data": {
            "text/plain": [
              "array([0., 0., 0., 1.])"
            ]
          },
          "metadata": {},
          "execution_count": 36
        }
      ]
    },
    {
      "cell_type": "code",
      "source": [
        "X.shape\n"
      ],
      "metadata": {
        "colab": {
          "base_uri": "https://localhost:8080/"
        },
        "id": "OM0nnULgO68X",
        "outputId": "704bb112-c175-4b7e-df48-a525509d710c"
      },
      "execution_count": 37,
      "outputs": [
        {
          "output_type": "execute_result",
          "data": {
            "text/plain": [
              "(8819, 8)"
            ]
          },
          "metadata": {},
          "execution_count": 37
        }
      ]
    },
    {
      "cell_type": "code",
      "source": [
        "X_train,X_test,y_train,y_test=train_test_split(X,y,\n",
        "                                               test_size=0.33,\n",
        "                                               random_state=50)"
      ],
      "metadata": {
        "id": "hwRwYapRO6-9"
      },
      "execution_count": 38,
      "outputs": []
    },
    {
      "cell_type": "code",
      "source": [
        "X_train[0]"
      ],
      "metadata": {
        "colab": {
          "base_uri": "https://localhost:8080/"
        },
        "id": "EV6qvGbqPAq0",
        "outputId": "39dc906f-bcaa-4115-f366-b8513b1a39d5"
      },
      "execution_count": 39,
      "outputs": [
        {
          "output_type": "execute_result",
          "data": {
            "text/plain": [
              "array([ 1.,  1., 85.,  0.,  2.,  0.,  0.,  1.])"
            ]
          },
          "metadata": {},
          "execution_count": 39
        }
      ]
    },
    {
      "cell_type": "code",
      "source": [
        "X_train.shape"
      ],
      "metadata": {
        "colab": {
          "base_uri": "https://localhost:8080/"
        },
        "id": "7yPKe_knPDzn",
        "outputId": "62636540-2969-4726-9ffb-da286b0f6eb7"
      },
      "execution_count": 40,
      "outputs": [
        {
          "output_type": "execute_result",
          "data": {
            "text/plain": [
              "(5908, 8)"
            ]
          },
          "metadata": {},
          "execution_count": 40
        }
      ]
    },
    {
      "cell_type": "code",
      "source": [
        "scaler_age = MinMaxScaler()"
      ],
      "metadata": {
        "id": "0VSCkcG6PGIS"
      },
      "execution_count": 41,
      "outputs": []
    },
    {
      "cell_type": "code",
      "source": [
        "scaler_age.fit(X_train[:,2].reshape(-1,1))"
      ],
      "metadata": {
        "colab": {
          "base_uri": "https://localhost:8080/",
          "height": 74
        },
        "id": "0B6xY9m0PIYh",
        "outputId": "5ace6a3e-3792-4668-d834-6963d4253c96"
      },
      "execution_count": 42,
      "outputs": [
        {
          "output_type": "execute_result",
          "data": {
            "text/plain": [
              "MinMaxScaler()"
            ],
            "text/html": [
              "<style>#sk-container-id-2 {color: black;background-color: white;}#sk-container-id-2 pre{padding: 0;}#sk-container-id-2 div.sk-toggleable {background-color: white;}#sk-container-id-2 label.sk-toggleable__label {cursor: pointer;display: block;width: 100%;margin-bottom: 0;padding: 0.3em;box-sizing: border-box;text-align: center;}#sk-container-id-2 label.sk-toggleable__label-arrow:before {content: \"▸\";float: left;margin-right: 0.25em;color: #696969;}#sk-container-id-2 label.sk-toggleable__label-arrow:hover:before {color: black;}#sk-container-id-2 div.sk-estimator:hover label.sk-toggleable__label-arrow:before {color: black;}#sk-container-id-2 div.sk-toggleable__content {max-height: 0;max-width: 0;overflow: hidden;text-align: left;background-color: #f0f8ff;}#sk-container-id-2 div.sk-toggleable__content pre {margin: 0.2em;color: black;border-radius: 0.25em;background-color: #f0f8ff;}#sk-container-id-2 input.sk-toggleable__control:checked~div.sk-toggleable__content {max-height: 200px;max-width: 100%;overflow: auto;}#sk-container-id-2 input.sk-toggleable__control:checked~label.sk-toggleable__label-arrow:before {content: \"▾\";}#sk-container-id-2 div.sk-estimator input.sk-toggleable__control:checked~label.sk-toggleable__label {background-color: #d4ebff;}#sk-container-id-2 div.sk-label input.sk-toggleable__control:checked~label.sk-toggleable__label {background-color: #d4ebff;}#sk-container-id-2 input.sk-hidden--visually {border: 0;clip: rect(1px 1px 1px 1px);clip: rect(1px, 1px, 1px, 1px);height: 1px;margin: -1px;overflow: hidden;padding: 0;position: absolute;width: 1px;}#sk-container-id-2 div.sk-estimator {font-family: monospace;background-color: #f0f8ff;border: 1px dotted black;border-radius: 0.25em;box-sizing: border-box;margin-bottom: 0.5em;}#sk-container-id-2 div.sk-estimator:hover {background-color: #d4ebff;}#sk-container-id-2 div.sk-parallel-item::after {content: \"\";width: 100%;border-bottom: 1px solid gray;flex-grow: 1;}#sk-container-id-2 div.sk-label:hover label.sk-toggleable__label {background-color: #d4ebff;}#sk-container-id-2 div.sk-serial::before {content: \"\";position: absolute;border-left: 1px solid gray;box-sizing: border-box;top: 0;bottom: 0;left: 50%;z-index: 0;}#sk-container-id-2 div.sk-serial {display: flex;flex-direction: column;align-items: center;background-color: white;padding-right: 0.2em;padding-left: 0.2em;position: relative;}#sk-container-id-2 div.sk-item {position: relative;z-index: 1;}#sk-container-id-2 div.sk-parallel {display: flex;align-items: stretch;justify-content: center;background-color: white;position: relative;}#sk-container-id-2 div.sk-item::before, #sk-container-id-2 div.sk-parallel-item::before {content: \"\";position: absolute;border-left: 1px solid gray;box-sizing: border-box;top: 0;bottom: 0;left: 50%;z-index: -1;}#sk-container-id-2 div.sk-parallel-item {display: flex;flex-direction: column;z-index: 1;position: relative;background-color: white;}#sk-container-id-2 div.sk-parallel-item:first-child::after {align-self: flex-end;width: 50%;}#sk-container-id-2 div.sk-parallel-item:last-child::after {align-self: flex-start;width: 50%;}#sk-container-id-2 div.sk-parallel-item:only-child::after {width: 0;}#sk-container-id-2 div.sk-dashed-wrapped {border: 1px dashed gray;margin: 0 0.4em 0.5em 0.4em;box-sizing: border-box;padding-bottom: 0.4em;background-color: white;}#sk-container-id-2 div.sk-label label {font-family: monospace;font-weight: bold;display: inline-block;line-height: 1.2em;}#sk-container-id-2 div.sk-label-container {text-align: center;}#sk-container-id-2 div.sk-container {/* jupyter's `normalize.less` sets `[hidden] { display: none; }` but bootstrap.min.css set `[hidden] { display: none !important; }` so we also need the `!important` here to be able to override the default hidden behavior on the sphinx rendered scikit-learn.org. See: https://github.com/scikit-learn/scikit-learn/issues/21755 */display: inline-block !important;position: relative;}#sk-container-id-2 div.sk-text-repr-fallback {display: none;}</style><div id=\"sk-container-id-2\" class=\"sk-top-container\"><div class=\"sk-text-repr-fallback\"><pre>MinMaxScaler()</pre><b>In a Jupyter environment, please rerun this cell to show the HTML representation or trust the notebook. <br />On GitHub, the HTML representation is unable to render, please try loading this page with nbviewer.org.</b></div><div class=\"sk-container\" hidden><div class=\"sk-item\"><div class=\"sk-estimator sk-toggleable\"><input class=\"sk-toggleable__control sk-hidden--visually\" id=\"sk-estimator-id-2\" type=\"checkbox\" checked><label for=\"sk-estimator-id-2\" class=\"sk-toggleable__label sk-toggleable__label-arrow\">MinMaxScaler</label><div class=\"sk-toggleable__content\"><pre>MinMaxScaler()</pre></div></div></div></div></div>"
            ]
          },
          "metadata": {},
          "execution_count": 42
        }
      ]
    },
    {
      "cell_type": "code",
      "source": [
        "X_train_scaled = np.copy(X_train)\n",
        "X_test_scaled = np.copy(X_test)"
      ],
      "metadata": {
        "id": "xC_m6ScfPLy2"
      },
      "execution_count": 43,
      "outputs": []
    },
    {
      "cell_type": "code",
      "source": [
        "# To scale the Age column\n",
        "X_train_scaled[:,2] = scaler_age.transform(X_train[:,2].reshape(-1,1)).reshape(-1)\n",
        "X_test_scaled[:,2] = scaler_age.transform(X_test[:,2].reshape(-1,1)).reshape(-1)"
      ],
      "metadata": {
        "id": "IaXcmDKgPO1E"
      },
      "execution_count": 44,
      "outputs": []
    },
    {
      "cell_type": "code",
      "source": [
        "# Creating the model\n",
        "ai_brain = Sequential([\n",
        "  Dense(units = 4, input_shape=[8]),\n",
        "  Dense(units =16, activation='relu'),\n",
        "  Dense(units =4, activation ='softmax')\n",
        "])"
      ],
      "metadata": {
        "id": "QoWj52-yPSFh"
      },
      "execution_count": 45,
      "outputs": []
    },
    {
      "cell_type": "code",
      "source": [
        "ai_brain.compile(optimizer='adam',\n",
        "                 loss='categorical_crossentropy',\n",
        "                 metrics=['accuracy'])"
      ],
      "metadata": {
        "id": "lx8WKlmTPUP7"
      },
      "execution_count": 46,
      "outputs": []
    },
    {
      "cell_type": "code",
      "source": [
        "ai_brain.fit(x=X_train_scaled,y=y_train,\n",
        "             epochs=500,batch_size=256,\n",
        "             validation_data=(X_test_scaled,y_test),\n",
        "             )"
      ],
      "metadata": {
        "colab": {
          "base_uri": "https://localhost:8080/"
        },
        "id": "M8DTvXVHPW7P",
        "outputId": "5d9cb4e7-047c-4df4-8369-3d5edd188f66"
      },
      "execution_count": 47,
      "outputs": [
        {
          "output_type": "stream",
          "name": "stdout",
          "text": [
            "Epoch 1/500\n",
            "24/24 [==============================] - 1s 12ms/step - loss: 2.2264 - accuracy: 0.2835 - val_loss: 1.8815 - val_accuracy: 0.2865\n",
            "Epoch 2/500\n",
            "24/24 [==============================] - 0s 4ms/step - loss: 1.7485 - accuracy: 0.2894 - val_loss: 1.5916 - val_accuracy: 0.2961\n",
            "Epoch 3/500\n",
            "24/24 [==============================] - 0s 4ms/step - loss: 1.5330 - accuracy: 0.3172 - val_loss: 1.4644 - val_accuracy: 0.3157\n",
            "Epoch 4/500\n",
            "24/24 [==============================] - 0s 3ms/step - loss: 1.4372 - accuracy: 0.3235 - val_loss: 1.4074 - val_accuracy: 0.3209\n",
            "Epoch 5/500\n",
            "24/24 [==============================] - 0s 4ms/step - loss: 1.3913 - accuracy: 0.3285 - val_loss: 1.3777 - val_accuracy: 0.3239\n",
            "Epoch 6/500\n",
            "24/24 [==============================] - 0s 4ms/step - loss: 1.3653 - accuracy: 0.3353 - val_loss: 1.3585 - val_accuracy: 0.3346\n",
            "Epoch 7/500\n",
            "24/24 [==============================] - 0s 3ms/step - loss: 1.3484 - accuracy: 0.3448 - val_loss: 1.3470 - val_accuracy: 0.3456\n",
            "Epoch 8/500\n",
            "24/24 [==============================] - 0s 3ms/step - loss: 1.3376 - accuracy: 0.3531 - val_loss: 1.3396 - val_accuracy: 0.3586\n",
            "Epoch 9/500\n",
            "24/24 [==============================] - 0s 3ms/step - loss: 1.3308 - accuracy: 0.3627 - val_loss: 1.3339 - val_accuracy: 0.3607\n",
            "Epoch 10/500\n",
            "24/24 [==============================] - 0s 3ms/step - loss: 1.3253 - accuracy: 0.3710 - val_loss: 1.3301 - val_accuracy: 0.3645\n",
            "Epoch 11/500\n",
            "24/24 [==============================] - 0s 3ms/step - loss: 1.3217 - accuracy: 0.3759 - val_loss: 1.3272 - val_accuracy: 0.3683\n",
            "Epoch 12/500\n",
            "24/24 [==============================] - 0s 4ms/step - loss: 1.3184 - accuracy: 0.3802 - val_loss: 1.3242 - val_accuracy: 0.3686\n",
            "Epoch 13/500\n",
            "24/24 [==============================] - 0s 3ms/step - loss: 1.3156 - accuracy: 0.3808 - val_loss: 1.3220 - val_accuracy: 0.3700\n",
            "Epoch 14/500\n",
            "24/24 [==============================] - 0s 4ms/step - loss: 1.3134 - accuracy: 0.3827 - val_loss: 1.3195 - val_accuracy: 0.3734\n",
            "Epoch 15/500\n",
            "24/24 [==============================] - 0s 3ms/step - loss: 1.3108 - accuracy: 0.3863 - val_loss: 1.3168 - val_accuracy: 0.3700\n",
            "Epoch 16/500\n",
            "24/24 [==============================] - 0s 4ms/step - loss: 1.3080 - accuracy: 0.3861 - val_loss: 1.3143 - val_accuracy: 0.3765\n",
            "Epoch 17/500\n",
            "24/24 [==============================] - 0s 3ms/step - loss: 1.3049 - accuracy: 0.3930 - val_loss: 1.3119 - val_accuracy: 0.3793\n",
            "Epoch 18/500\n",
            "24/24 [==============================] - 0s 3ms/step - loss: 1.3023 - accuracy: 0.3912 - val_loss: 1.3094 - val_accuracy: 0.3813\n",
            "Epoch 19/500\n",
            "24/24 [==============================] - 0s 3ms/step - loss: 1.2997 - accuracy: 0.3937 - val_loss: 1.3072 - val_accuracy: 0.3827\n",
            "Epoch 20/500\n",
            "24/24 [==============================] - 0s 3ms/step - loss: 1.2973 - accuracy: 0.3949 - val_loss: 1.3046 - val_accuracy: 0.3861\n",
            "Epoch 21/500\n",
            "24/24 [==============================] - 0s 3ms/step - loss: 1.2951 - accuracy: 0.3966 - val_loss: 1.3034 - val_accuracy: 0.3875\n",
            "Epoch 22/500\n",
            "24/24 [==============================] - 0s 3ms/step - loss: 1.2927 - accuracy: 0.3973 - val_loss: 1.3010 - val_accuracy: 0.3878\n",
            "Epoch 23/500\n",
            "24/24 [==============================] - 0s 4ms/step - loss: 1.2901 - accuracy: 0.4037 - val_loss: 1.2984 - val_accuracy: 0.3906\n",
            "Epoch 24/500\n",
            "24/24 [==============================] - 0s 3ms/step - loss: 1.2881 - accuracy: 0.4006 - val_loss: 1.2958 - val_accuracy: 0.3926\n",
            "Epoch 25/500\n",
            "24/24 [==============================] - 0s 12ms/step - loss: 1.2855 - accuracy: 0.4083 - val_loss: 1.2937 - val_accuracy: 0.3985\n",
            "Epoch 26/500\n",
            "24/24 [==============================] - 0s 3ms/step - loss: 1.2833 - accuracy: 0.4076 - val_loss: 1.2924 - val_accuracy: 0.4023\n",
            "Epoch 27/500\n",
            "24/24 [==============================] - 0s 3ms/step - loss: 1.2819 - accuracy: 0.4103 - val_loss: 1.2910 - val_accuracy: 0.4005\n",
            "Epoch 28/500\n",
            "24/24 [==============================] - 0s 3ms/step - loss: 1.2797 - accuracy: 0.4128 - val_loss: 1.2882 - val_accuracy: 0.4023\n",
            "Epoch 29/500\n",
            "24/24 [==============================] - 0s 3ms/step - loss: 1.2770 - accuracy: 0.4155 - val_loss: 1.2866 - val_accuracy: 0.4040\n",
            "Epoch 30/500\n",
            "24/24 [==============================] - 0s 4ms/step - loss: 1.2750 - accuracy: 0.4154 - val_loss: 1.2846 - val_accuracy: 0.4043\n",
            "Epoch 31/500\n",
            "24/24 [==============================] - 0s 3ms/step - loss: 1.2739 - accuracy: 0.4152 - val_loss: 1.2825 - val_accuracy: 0.4095\n",
            "Epoch 32/500\n",
            "24/24 [==============================] - 0s 3ms/step - loss: 1.2716 - accuracy: 0.4193 - val_loss: 1.2814 - val_accuracy: 0.4064\n",
            "Epoch 33/500\n",
            "24/24 [==============================] - 0s 3ms/step - loss: 1.2699 - accuracy: 0.4193 - val_loss: 1.2799 - val_accuracy: 0.4098\n",
            "Epoch 34/500\n",
            "24/24 [==============================] - 0s 3ms/step - loss: 1.2682 - accuracy: 0.4233 - val_loss: 1.2782 - val_accuracy: 0.4122\n",
            "Epoch 35/500\n",
            "24/24 [==============================] - 0s 4ms/step - loss: 1.2664 - accuracy: 0.4252 - val_loss: 1.2764 - val_accuracy: 0.4109\n",
            "Epoch 36/500\n",
            "24/24 [==============================] - 0s 3ms/step - loss: 1.2646 - accuracy: 0.4267 - val_loss: 1.2749 - val_accuracy: 0.4150\n",
            "Epoch 37/500\n",
            "24/24 [==============================] - 0s 3ms/step - loss: 1.2632 - accuracy: 0.4279 - val_loss: 1.2731 - val_accuracy: 0.4191\n",
            "Epoch 38/500\n",
            "24/24 [==============================] - 0s 3ms/step - loss: 1.2617 - accuracy: 0.4255 - val_loss: 1.2724 - val_accuracy: 0.4153\n",
            "Epoch 39/500\n",
            "24/24 [==============================] - 0s 3ms/step - loss: 1.2607 - accuracy: 0.4291 - val_loss: 1.2709 - val_accuracy: 0.4188\n",
            "Epoch 40/500\n",
            "24/24 [==============================] - 0s 4ms/step - loss: 1.2586 - accuracy: 0.4281 - val_loss: 1.2695 - val_accuracy: 0.4212\n",
            "Epoch 41/500\n",
            "24/24 [==============================] - 0s 3ms/step - loss: 1.2574 - accuracy: 0.4294 - val_loss: 1.2686 - val_accuracy: 0.4212\n",
            "Epoch 42/500\n",
            "24/24 [==============================] - 0s 4ms/step - loss: 1.2562 - accuracy: 0.4292 - val_loss: 1.2667 - val_accuracy: 0.4236\n",
            "Epoch 43/500\n",
            "24/24 [==============================] - 0s 3ms/step - loss: 1.2550 - accuracy: 0.4343 - val_loss: 1.2659 - val_accuracy: 0.4263\n",
            "Epoch 44/500\n",
            "24/24 [==============================] - 0s 3ms/step - loss: 1.2541 - accuracy: 0.4281 - val_loss: 1.2651 - val_accuracy: 0.4236\n",
            "Epoch 45/500\n",
            "24/24 [==============================] - 0s 3ms/step - loss: 1.2516 - accuracy: 0.4352 - val_loss: 1.2639 - val_accuracy: 0.4253\n",
            "Epoch 46/500\n",
            "24/24 [==============================] - 0s 3ms/step - loss: 1.2507 - accuracy: 0.4360 - val_loss: 1.2628 - val_accuracy: 0.4284\n",
            "Epoch 47/500\n",
            "24/24 [==============================] - 0s 4ms/step - loss: 1.2493 - accuracy: 0.4374 - val_loss: 1.2620 - val_accuracy: 0.4308\n",
            "Epoch 48/500\n",
            "24/24 [==============================] - 0s 4ms/step - loss: 1.2484 - accuracy: 0.4382 - val_loss: 1.2606 - val_accuracy: 0.4301\n",
            "Epoch 49/500\n",
            "24/24 [==============================] - 0s 3ms/step - loss: 1.2466 - accuracy: 0.4387 - val_loss: 1.2590 - val_accuracy: 0.4287\n",
            "Epoch 50/500\n",
            "24/24 [==============================] - 0s 3ms/step - loss: 1.2456 - accuracy: 0.4396 - val_loss: 1.2577 - val_accuracy: 0.4297\n",
            "Epoch 51/500\n",
            "24/24 [==============================] - 0s 3ms/step - loss: 1.2441 - accuracy: 0.4428 - val_loss: 1.2573 - val_accuracy: 0.4297\n",
            "Epoch 52/500\n",
            "24/24 [==============================] - 0s 3ms/step - loss: 1.2434 - accuracy: 0.4413 - val_loss: 1.2565 - val_accuracy: 0.4284\n",
            "Epoch 53/500\n",
            "24/24 [==============================] - 0s 3ms/step - loss: 1.2424 - accuracy: 0.4414 - val_loss: 1.2549 - val_accuracy: 0.4304\n",
            "Epoch 54/500\n",
            "24/24 [==============================] - 0s 4ms/step - loss: 1.2414 - accuracy: 0.4391 - val_loss: 1.2537 - val_accuracy: 0.4294\n",
            "Epoch 55/500\n",
            "24/24 [==============================] - 0s 3ms/step - loss: 1.2399 - accuracy: 0.4448 - val_loss: 1.2532 - val_accuracy: 0.4311\n",
            "Epoch 56/500\n",
            "24/24 [==============================] - 0s 3ms/step - loss: 1.2388 - accuracy: 0.4458 - val_loss: 1.2525 - val_accuracy: 0.4318\n",
            "Epoch 57/500\n",
            "24/24 [==============================] - 0s 3ms/step - loss: 1.2380 - accuracy: 0.4489 - val_loss: 1.2520 - val_accuracy: 0.4349\n",
            "Epoch 58/500\n",
            "24/24 [==============================] - 0s 5ms/step - loss: 1.2366 - accuracy: 0.4475 - val_loss: 1.2504 - val_accuracy: 0.4325\n",
            "Epoch 59/500\n",
            "24/24 [==============================] - 0s 3ms/step - loss: 1.2358 - accuracy: 0.4452 - val_loss: 1.2498 - val_accuracy: 0.4359\n",
            "Epoch 60/500\n",
            "24/24 [==============================] - 0s 3ms/step - loss: 1.2350 - accuracy: 0.4438 - val_loss: 1.2488 - val_accuracy: 0.4352\n",
            "Epoch 61/500\n",
            "24/24 [==============================] - 0s 3ms/step - loss: 1.2336 - accuracy: 0.4523 - val_loss: 1.2484 - val_accuracy: 0.4370\n",
            "Epoch 62/500\n",
            "24/24 [==============================] - 0s 3ms/step - loss: 1.2330 - accuracy: 0.4501 - val_loss: 1.2475 - val_accuracy: 0.4394\n",
            "Epoch 63/500\n",
            "24/24 [==============================] - 0s 5ms/step - loss: 1.2313 - accuracy: 0.4555 - val_loss: 1.2455 - val_accuracy: 0.4370\n",
            "Epoch 64/500\n",
            "24/24 [==============================] - 0s 5ms/step - loss: 1.2305 - accuracy: 0.4550 - val_loss: 1.2453 - val_accuracy: 0.4366\n",
            "Epoch 65/500\n",
            "24/24 [==============================] - 0s 5ms/step - loss: 1.2301 - accuracy: 0.4506 - val_loss: 1.2435 - val_accuracy: 0.4380\n",
            "Epoch 66/500\n",
            "24/24 [==============================] - 0s 5ms/step - loss: 1.2292 - accuracy: 0.4551 - val_loss: 1.2432 - val_accuracy: 0.4390\n",
            "Epoch 67/500\n",
            "24/24 [==============================] - 0s 5ms/step - loss: 1.2272 - accuracy: 0.4582 - val_loss: 1.2422 - val_accuracy: 0.4397\n",
            "Epoch 68/500\n",
            "24/24 [==============================] - 0s 5ms/step - loss: 1.2263 - accuracy: 0.4580 - val_loss: 1.2418 - val_accuracy: 0.4346\n",
            "Epoch 69/500\n",
            "24/24 [==============================] - 0s 5ms/step - loss: 1.2257 - accuracy: 0.4562 - val_loss: 1.2407 - val_accuracy: 0.4387\n",
            "Epoch 70/500\n",
            "24/24 [==============================] - 0s 5ms/step - loss: 1.2248 - accuracy: 0.4606 - val_loss: 1.2404 - val_accuracy: 0.4445\n",
            "Epoch 71/500\n",
            "24/24 [==============================] - 0s 7ms/step - loss: 1.2238 - accuracy: 0.4628 - val_loss: 1.2392 - val_accuracy: 0.4414\n",
            "Epoch 72/500\n",
            "24/24 [==============================] - 0s 5ms/step - loss: 1.2227 - accuracy: 0.4611 - val_loss: 1.2387 - val_accuracy: 0.4428\n",
            "Epoch 73/500\n",
            "24/24 [==============================] - 0s 7ms/step - loss: 1.2223 - accuracy: 0.4590 - val_loss: 1.2376 - val_accuracy: 0.4456\n",
            "Epoch 74/500\n",
            "24/24 [==============================] - 0s 7ms/step - loss: 1.2211 - accuracy: 0.4572 - val_loss: 1.2375 - val_accuracy: 0.4414\n",
            "Epoch 75/500\n",
            "24/24 [==============================] - 0s 7ms/step - loss: 1.2201 - accuracy: 0.4585 - val_loss: 1.2360 - val_accuracy: 0.4476\n",
            "Epoch 76/500\n",
            "24/24 [==============================] - 0s 5ms/step - loss: 1.2190 - accuracy: 0.4599 - val_loss: 1.2356 - val_accuracy: 0.4442\n",
            "Epoch 77/500\n",
            "24/24 [==============================] - 0s 7ms/step - loss: 1.2185 - accuracy: 0.4601 - val_loss: 1.2354 - val_accuracy: 0.4435\n",
            "Epoch 78/500\n",
            "24/24 [==============================] - 0s 5ms/step - loss: 1.2179 - accuracy: 0.4573 - val_loss: 1.2339 - val_accuracy: 0.4449\n",
            "Epoch 79/500\n",
            "24/24 [==============================] - 0s 5ms/step - loss: 1.2166 - accuracy: 0.4572 - val_loss: 1.2335 - val_accuracy: 0.4483\n",
            "Epoch 80/500\n",
            "24/24 [==============================] - 0s 7ms/step - loss: 1.2163 - accuracy: 0.4592 - val_loss: 1.2327 - val_accuracy: 0.4490\n",
            "Epoch 81/500\n",
            "24/24 [==============================] - 0s 5ms/step - loss: 1.2155 - accuracy: 0.4601 - val_loss: 1.2324 - val_accuracy: 0.4456\n",
            "Epoch 82/500\n",
            "24/24 [==============================] - 0s 7ms/step - loss: 1.2148 - accuracy: 0.4584 - val_loss: 1.2317 - val_accuracy: 0.4480\n",
            "Epoch 83/500\n",
            "24/24 [==============================] - 0s 5ms/step - loss: 1.2142 - accuracy: 0.4595 - val_loss: 1.2311 - val_accuracy: 0.4480\n",
            "Epoch 84/500\n",
            "24/24 [==============================] - 0s 7ms/step - loss: 1.2132 - accuracy: 0.4609 - val_loss: 1.2306 - val_accuracy: 0.4421\n",
            "Epoch 85/500\n",
            "24/24 [==============================] - 0s 5ms/step - loss: 1.2127 - accuracy: 0.4617 - val_loss: 1.2301 - val_accuracy: 0.4483\n",
            "Epoch 86/500\n",
            "24/24 [==============================] - 0s 4ms/step - loss: 1.2123 - accuracy: 0.4602 - val_loss: 1.2291 - val_accuracy: 0.4469\n",
            "Epoch 87/500\n",
            "24/24 [==============================] - 0s 5ms/step - loss: 1.2112 - accuracy: 0.4606 - val_loss: 1.2291 - val_accuracy: 0.4449\n",
            "Epoch 88/500\n",
            "24/24 [==============================] - 0s 7ms/step - loss: 1.2108 - accuracy: 0.4595 - val_loss: 1.2285 - val_accuracy: 0.4456\n",
            "Epoch 89/500\n",
            "24/24 [==============================] - 0s 5ms/step - loss: 1.2105 - accuracy: 0.4597 - val_loss: 1.2285 - val_accuracy: 0.4459\n",
            "Epoch 90/500\n",
            "24/24 [==============================] - 0s 5ms/step - loss: 1.2096 - accuracy: 0.4624 - val_loss: 1.2276 - val_accuracy: 0.4480\n",
            "Epoch 91/500\n",
            "24/24 [==============================] - 0s 5ms/step - loss: 1.2095 - accuracy: 0.4606 - val_loss: 1.2277 - val_accuracy: 0.4480\n",
            "Epoch 92/500\n",
            "24/24 [==============================] - 0s 5ms/step - loss: 1.2084 - accuracy: 0.4607 - val_loss: 1.2273 - val_accuracy: 0.4476\n",
            "Epoch 93/500\n",
            "24/24 [==============================] - 0s 7ms/step - loss: 1.2080 - accuracy: 0.4628 - val_loss: 1.2265 - val_accuracy: 0.4486\n",
            "Epoch 94/500\n",
            "24/24 [==============================] - 0s 4ms/step - loss: 1.2075 - accuracy: 0.4623 - val_loss: 1.2262 - val_accuracy: 0.4480\n",
            "Epoch 95/500\n",
            "24/24 [==============================] - 0s 3ms/step - loss: 1.2079 - accuracy: 0.4611 - val_loss: 1.2258 - val_accuracy: 0.4476\n",
            "Epoch 96/500\n",
            "24/24 [==============================] - 0s 3ms/step - loss: 1.2066 - accuracy: 0.4604 - val_loss: 1.2250 - val_accuracy: 0.4521\n",
            "Epoch 97/500\n",
            "24/24 [==============================] - 0s 4ms/step - loss: 1.2069 - accuracy: 0.4607 - val_loss: 1.2256 - val_accuracy: 0.4514\n",
            "Epoch 98/500\n",
            "24/24 [==============================] - 0s 3ms/step - loss: 1.2067 - accuracy: 0.4617 - val_loss: 1.2246 - val_accuracy: 0.4504\n",
            "Epoch 99/500\n",
            "24/24 [==============================] - 0s 4ms/step - loss: 1.2055 - accuracy: 0.4597 - val_loss: 1.2243 - val_accuracy: 0.4528\n",
            "Epoch 100/500\n",
            "24/24 [==============================] - 0s 4ms/step - loss: 1.2051 - accuracy: 0.4634 - val_loss: 1.2238 - val_accuracy: 0.4514\n",
            "Epoch 101/500\n",
            "24/24 [==============================] - 0s 3ms/step - loss: 1.2051 - accuracy: 0.4658 - val_loss: 1.2245 - val_accuracy: 0.4497\n",
            "Epoch 102/500\n",
            "24/24 [==============================] - 0s 3ms/step - loss: 1.2044 - accuracy: 0.4633 - val_loss: 1.2243 - val_accuracy: 0.4449\n",
            "Epoch 103/500\n",
            "24/24 [==============================] - 0s 3ms/step - loss: 1.2045 - accuracy: 0.4606 - val_loss: 1.2234 - val_accuracy: 0.4493\n",
            "Epoch 104/500\n",
            "24/24 [==============================] - 0s 3ms/step - loss: 1.2039 - accuracy: 0.4643 - val_loss: 1.2231 - val_accuracy: 0.4528\n",
            "Epoch 105/500\n",
            "24/24 [==============================] - 0s 3ms/step - loss: 1.2038 - accuracy: 0.4612 - val_loss: 1.2226 - val_accuracy: 0.4497\n",
            "Epoch 106/500\n",
            "24/24 [==============================] - 0s 3ms/step - loss: 1.2029 - accuracy: 0.4633 - val_loss: 1.2231 - val_accuracy: 0.4528\n",
            "Epoch 107/500\n",
            "24/24 [==============================] - 0s 3ms/step - loss: 1.2027 - accuracy: 0.4623 - val_loss: 1.2218 - val_accuracy: 0.4514\n",
            "Epoch 108/500\n",
            "24/24 [==============================] - 0s 3ms/step - loss: 1.2025 - accuracy: 0.4638 - val_loss: 1.2221 - val_accuracy: 0.4541\n",
            "Epoch 109/500\n",
            "24/24 [==============================] - 0s 3ms/step - loss: 1.2022 - accuracy: 0.4628 - val_loss: 1.2222 - val_accuracy: 0.4538\n",
            "Epoch 110/500\n",
            "24/24 [==============================] - 0s 3ms/step - loss: 1.2017 - accuracy: 0.4661 - val_loss: 1.2216 - val_accuracy: 0.4548\n",
            "Epoch 111/500\n",
            "24/24 [==============================] - 0s 4ms/step - loss: 1.2015 - accuracy: 0.4643 - val_loss: 1.2221 - val_accuracy: 0.4548\n",
            "Epoch 112/500\n",
            "24/24 [==============================] - 0s 4ms/step - loss: 1.2015 - accuracy: 0.4650 - val_loss: 1.2216 - val_accuracy: 0.4562\n",
            "Epoch 113/500\n",
            "24/24 [==============================] - 0s 3ms/step - loss: 1.2010 - accuracy: 0.4607 - val_loss: 1.2224 - val_accuracy: 0.4535\n",
            "Epoch 114/500\n",
            "24/24 [==============================] - 0s 3ms/step - loss: 1.2018 - accuracy: 0.4636 - val_loss: 1.2213 - val_accuracy: 0.4504\n",
            "Epoch 115/500\n",
            "24/24 [==============================] - 0s 3ms/step - loss: 1.2007 - accuracy: 0.4643 - val_loss: 1.2222 - val_accuracy: 0.4510\n",
            "Epoch 116/500\n",
            "24/24 [==============================] - 0s 3ms/step - loss: 1.2008 - accuracy: 0.4609 - val_loss: 1.2208 - val_accuracy: 0.4541\n",
            "Epoch 117/500\n",
            "24/24 [==============================] - 0s 3ms/step - loss: 1.1999 - accuracy: 0.4626 - val_loss: 1.2214 - val_accuracy: 0.4521\n",
            "Epoch 118/500\n",
            "24/24 [==============================] - 0s 3ms/step - loss: 1.2005 - accuracy: 0.4645 - val_loss: 1.2208 - val_accuracy: 0.4524\n",
            "Epoch 119/500\n",
            "24/24 [==============================] - 0s 3ms/step - loss: 1.2000 - accuracy: 0.4656 - val_loss: 1.2210 - val_accuracy: 0.4572\n",
            "Epoch 120/500\n",
            "24/24 [==============================] - 0s 3ms/step - loss: 1.1996 - accuracy: 0.4667 - val_loss: 1.2204 - val_accuracy: 0.4538\n",
            "Epoch 121/500\n",
            "24/24 [==============================] - 0s 3ms/step - loss: 1.1996 - accuracy: 0.4672 - val_loss: 1.2200 - val_accuracy: 0.4541\n",
            "Epoch 122/500\n",
            "24/24 [==============================] - 0s 3ms/step - loss: 1.1998 - accuracy: 0.4660 - val_loss: 1.2200 - val_accuracy: 0.4548\n",
            "Epoch 123/500\n",
            "24/24 [==============================] - 0s 4ms/step - loss: 1.1991 - accuracy: 0.4626 - val_loss: 1.2202 - val_accuracy: 0.4572\n",
            "Epoch 124/500\n",
            "24/24 [==============================] - 0s 3ms/step - loss: 1.1990 - accuracy: 0.4660 - val_loss: 1.2201 - val_accuracy: 0.4552\n",
            "Epoch 125/500\n",
            "24/24 [==============================] - 0s 3ms/step - loss: 1.1990 - accuracy: 0.4675 - val_loss: 1.2202 - val_accuracy: 0.4548\n",
            "Epoch 126/500\n",
            "24/24 [==============================] - 0s 3ms/step - loss: 1.1989 - accuracy: 0.4663 - val_loss: 1.2200 - val_accuracy: 0.4535\n",
            "Epoch 127/500\n",
            "24/24 [==============================] - 0s 3ms/step - loss: 1.1987 - accuracy: 0.4628 - val_loss: 1.2203 - val_accuracy: 0.4535\n",
            "Epoch 128/500\n",
            "24/24 [==============================] - 0s 4ms/step - loss: 1.1987 - accuracy: 0.4641 - val_loss: 1.2197 - val_accuracy: 0.4517\n",
            "Epoch 129/500\n",
            "24/24 [==============================] - 0s 3ms/step - loss: 1.1980 - accuracy: 0.4643 - val_loss: 1.2198 - val_accuracy: 0.4545\n",
            "Epoch 130/500\n",
            "24/24 [==============================] - 0s 3ms/step - loss: 1.1985 - accuracy: 0.4650 - val_loss: 1.2186 - val_accuracy: 0.4559\n",
            "Epoch 131/500\n",
            "24/24 [==============================] - 0s 4ms/step - loss: 1.1981 - accuracy: 0.4673 - val_loss: 1.2186 - val_accuracy: 0.4565\n",
            "Epoch 132/500\n",
            "24/24 [==============================] - 0s 4ms/step - loss: 1.1984 - accuracy: 0.4672 - val_loss: 1.2202 - val_accuracy: 0.4524\n",
            "Epoch 133/500\n",
            "24/24 [==============================] - 0s 4ms/step - loss: 1.1977 - accuracy: 0.4636 - val_loss: 1.2190 - val_accuracy: 0.4583\n",
            "Epoch 134/500\n",
            "24/24 [==============================] - 0s 4ms/step - loss: 1.1976 - accuracy: 0.4678 - val_loss: 1.2193 - val_accuracy: 0.4555\n",
            "Epoch 135/500\n",
            "24/24 [==============================] - 0s 3ms/step - loss: 1.1977 - accuracy: 0.4705 - val_loss: 1.2206 - val_accuracy: 0.4507\n",
            "Epoch 136/500\n",
            "24/24 [==============================] - 0s 3ms/step - loss: 1.1976 - accuracy: 0.4636 - val_loss: 1.2189 - val_accuracy: 0.4555\n",
            "Epoch 137/500\n",
            "24/24 [==============================] - 0s 3ms/step - loss: 1.1973 - accuracy: 0.4656 - val_loss: 1.2205 - val_accuracy: 0.4493\n",
            "Epoch 138/500\n",
            "24/24 [==============================] - 0s 4ms/step - loss: 1.1975 - accuracy: 0.4661 - val_loss: 1.2183 - val_accuracy: 0.4535\n",
            "Epoch 139/500\n",
            "24/24 [==============================] - 0s 3ms/step - loss: 1.1973 - accuracy: 0.4719 - val_loss: 1.2197 - val_accuracy: 0.4507\n",
            "Epoch 140/500\n",
            "24/24 [==============================] - 0s 3ms/step - loss: 1.1984 - accuracy: 0.4690 - val_loss: 1.2177 - val_accuracy: 0.4565\n",
            "Epoch 141/500\n",
            "24/24 [==============================] - 0s 3ms/step - loss: 1.1968 - accuracy: 0.4626 - val_loss: 1.2186 - val_accuracy: 0.4569\n",
            "Epoch 142/500\n",
            "24/24 [==============================] - 0s 3ms/step - loss: 1.1962 - accuracy: 0.4668 - val_loss: 1.2186 - val_accuracy: 0.4555\n",
            "Epoch 143/500\n",
            "24/24 [==============================] - 0s 3ms/step - loss: 1.1965 - accuracy: 0.4719 - val_loss: 1.2179 - val_accuracy: 0.4531\n",
            "Epoch 144/500\n",
            "24/24 [==============================] - 0s 3ms/step - loss: 1.1962 - accuracy: 0.4712 - val_loss: 1.2177 - val_accuracy: 0.4579\n",
            "Epoch 145/500\n",
            "24/24 [==============================] - 0s 3ms/step - loss: 1.1964 - accuracy: 0.4692 - val_loss: 1.2194 - val_accuracy: 0.4500\n",
            "Epoch 146/500\n",
            "24/24 [==============================] - 0s 4ms/step - loss: 1.1960 - accuracy: 0.4738 - val_loss: 1.2177 - val_accuracy: 0.4545\n",
            "Epoch 147/500\n",
            "24/24 [==============================] - 0s 4ms/step - loss: 1.1958 - accuracy: 0.4685 - val_loss: 1.2194 - val_accuracy: 0.4535\n",
            "Epoch 148/500\n",
            "24/24 [==============================] - 0s 3ms/step - loss: 1.1963 - accuracy: 0.4699 - val_loss: 1.2178 - val_accuracy: 0.4531\n",
            "Epoch 149/500\n",
            "24/24 [==============================] - 0s 4ms/step - loss: 1.1959 - accuracy: 0.4704 - val_loss: 1.2167 - val_accuracy: 0.4579\n",
            "Epoch 150/500\n",
            "24/24 [==============================] - 0s 4ms/step - loss: 1.1955 - accuracy: 0.4702 - val_loss: 1.2182 - val_accuracy: 0.4548\n",
            "Epoch 151/500\n",
            "24/24 [==============================] - 0s 4ms/step - loss: 1.1952 - accuracy: 0.4734 - val_loss: 1.2171 - val_accuracy: 0.4535\n",
            "Epoch 152/500\n",
            "24/24 [==============================] - 0s 4ms/step - loss: 1.1951 - accuracy: 0.4711 - val_loss: 1.2177 - val_accuracy: 0.4559\n",
            "Epoch 153/500\n",
            "24/24 [==============================] - 0s 4ms/step - loss: 1.1955 - accuracy: 0.4734 - val_loss: 1.2174 - val_accuracy: 0.4535\n",
            "Epoch 154/500\n",
            "24/24 [==============================] - 0s 4ms/step - loss: 1.1951 - accuracy: 0.4673 - val_loss: 1.2189 - val_accuracy: 0.4545\n",
            "Epoch 155/500\n",
            "24/24 [==============================] - 0s 3ms/step - loss: 1.1949 - accuracy: 0.4695 - val_loss: 1.2171 - val_accuracy: 0.4565\n",
            "Epoch 156/500\n",
            "24/24 [==============================] - 0s 3ms/step - loss: 1.1944 - accuracy: 0.4731 - val_loss: 1.2171 - val_accuracy: 0.4555\n",
            "Epoch 157/500\n",
            "24/24 [==============================] - 0s 4ms/step - loss: 1.1946 - accuracy: 0.4705 - val_loss: 1.2170 - val_accuracy: 0.4583\n",
            "Epoch 158/500\n",
            "24/24 [==============================] - 0s 4ms/step - loss: 1.1946 - accuracy: 0.4690 - val_loss: 1.2175 - val_accuracy: 0.4559\n",
            "Epoch 159/500\n",
            "24/24 [==============================] - 0s 4ms/step - loss: 1.1942 - accuracy: 0.4695 - val_loss: 1.2175 - val_accuracy: 0.4531\n",
            "Epoch 160/500\n",
            "24/24 [==============================] - 0s 3ms/step - loss: 1.1942 - accuracy: 0.4678 - val_loss: 1.2168 - val_accuracy: 0.4528\n",
            "Epoch 161/500\n",
            "24/24 [==============================] - 0s 4ms/step - loss: 1.1944 - accuracy: 0.4711 - val_loss: 1.2175 - val_accuracy: 0.4545\n",
            "Epoch 162/500\n",
            "24/24 [==============================] - 0s 4ms/step - loss: 1.1939 - accuracy: 0.4727 - val_loss: 1.2171 - val_accuracy: 0.4524\n",
            "Epoch 163/500\n",
            "24/24 [==============================] - 0s 3ms/step - loss: 1.1941 - accuracy: 0.4700 - val_loss: 1.2159 - val_accuracy: 0.4548\n",
            "Epoch 164/500\n",
            "24/24 [==============================] - 0s 4ms/step - loss: 1.1944 - accuracy: 0.4700 - val_loss: 1.2190 - val_accuracy: 0.4535\n",
            "Epoch 165/500\n",
            "24/24 [==============================] - 0s 4ms/step - loss: 1.1945 - accuracy: 0.4724 - val_loss: 1.2166 - val_accuracy: 0.4572\n",
            "Epoch 166/500\n",
            "24/24 [==============================] - 0s 4ms/step - loss: 1.1939 - accuracy: 0.4717 - val_loss: 1.2174 - val_accuracy: 0.4521\n",
            "Epoch 167/500\n",
            "24/24 [==============================] - 0s 3ms/step - loss: 1.1941 - accuracy: 0.4709 - val_loss: 1.2169 - val_accuracy: 0.4569\n",
            "Epoch 168/500\n",
            "24/24 [==============================] - 0s 4ms/step - loss: 1.1945 - accuracy: 0.4660 - val_loss: 1.2192 - val_accuracy: 0.4466\n",
            "Epoch 169/500\n",
            "24/24 [==============================] - 0s 4ms/step - loss: 1.1934 - accuracy: 0.4699 - val_loss: 1.2161 - val_accuracy: 0.4521\n",
            "Epoch 170/500\n",
            "24/24 [==============================] - 0s 3ms/step - loss: 1.1944 - accuracy: 0.4702 - val_loss: 1.2161 - val_accuracy: 0.4569\n",
            "Epoch 171/500\n",
            "24/24 [==============================] - 0s 4ms/step - loss: 1.1934 - accuracy: 0.4670 - val_loss: 1.2169 - val_accuracy: 0.4504\n",
            "Epoch 172/500\n",
            "24/24 [==============================] - 0s 3ms/step - loss: 1.1929 - accuracy: 0.4736 - val_loss: 1.2155 - val_accuracy: 0.4552\n",
            "Epoch 173/500\n",
            "24/24 [==============================] - 0s 3ms/step - loss: 1.1932 - accuracy: 0.4733 - val_loss: 1.2157 - val_accuracy: 0.4535\n",
            "Epoch 174/500\n",
            "24/24 [==============================] - 0s 4ms/step - loss: 1.1931 - accuracy: 0.4707 - val_loss: 1.2172 - val_accuracy: 0.4559\n",
            "Epoch 175/500\n",
            "24/24 [==============================] - 0s 4ms/step - loss: 1.1925 - accuracy: 0.4722 - val_loss: 1.2158 - val_accuracy: 0.4593\n",
            "Epoch 176/500\n",
            "24/24 [==============================] - 0s 3ms/step - loss: 1.1925 - accuracy: 0.4692 - val_loss: 1.2163 - val_accuracy: 0.4562\n",
            "Epoch 177/500\n",
            "24/24 [==============================] - 0s 4ms/step - loss: 1.1924 - accuracy: 0.4721 - val_loss: 1.2163 - val_accuracy: 0.4524\n",
            "Epoch 178/500\n",
            "24/24 [==============================] - 0s 4ms/step - loss: 1.1926 - accuracy: 0.4727 - val_loss: 1.2171 - val_accuracy: 0.4490\n",
            "Epoch 179/500\n",
            "24/24 [==============================] - 0s 4ms/step - loss: 1.1924 - accuracy: 0.4721 - val_loss: 1.2166 - val_accuracy: 0.4565\n",
            "Epoch 180/500\n",
            "24/24 [==============================] - 0s 3ms/step - loss: 1.1920 - accuracy: 0.4695 - val_loss: 1.2170 - val_accuracy: 0.4541\n",
            "Epoch 181/500\n",
            "24/24 [==============================] - 0s 4ms/step - loss: 1.1921 - accuracy: 0.4714 - val_loss: 1.2160 - val_accuracy: 0.4538\n",
            "Epoch 182/500\n",
            "24/24 [==============================] - 0s 4ms/step - loss: 1.1920 - accuracy: 0.4727 - val_loss: 1.2163 - val_accuracy: 0.4541\n",
            "Epoch 183/500\n",
            "24/24 [==============================] - 0s 4ms/step - loss: 1.1931 - accuracy: 0.4709 - val_loss: 1.2161 - val_accuracy: 0.4497\n",
            "Epoch 184/500\n",
            "24/24 [==============================] - 0s 3ms/step - loss: 1.1924 - accuracy: 0.4700 - val_loss: 1.2182 - val_accuracy: 0.4535\n",
            "Epoch 185/500\n",
            "24/24 [==============================] - 0s 4ms/step - loss: 1.1924 - accuracy: 0.4695 - val_loss: 1.2154 - val_accuracy: 0.4552\n",
            "Epoch 186/500\n",
            "24/24 [==============================] - 0s 4ms/step - loss: 1.1917 - accuracy: 0.4724 - val_loss: 1.2160 - val_accuracy: 0.4521\n",
            "Epoch 187/500\n",
            "24/24 [==============================] - 0s 3ms/step - loss: 1.1917 - accuracy: 0.4755 - val_loss: 1.2182 - val_accuracy: 0.4493\n",
            "Epoch 188/500\n",
            "24/24 [==============================] - 0s 3ms/step - loss: 1.1924 - accuracy: 0.4731 - val_loss: 1.2180 - val_accuracy: 0.4552\n",
            "Epoch 189/500\n",
            "24/24 [==============================] - 0s 4ms/step - loss: 1.1918 - accuracy: 0.4733 - val_loss: 1.2169 - val_accuracy: 0.4524\n",
            "Epoch 190/500\n",
            "24/24 [==============================] - 0s 4ms/step - loss: 1.1919 - accuracy: 0.4743 - val_loss: 1.2164 - val_accuracy: 0.4524\n",
            "Epoch 191/500\n",
            "24/24 [==============================] - 0s 4ms/step - loss: 1.1913 - accuracy: 0.4699 - val_loss: 1.2167 - val_accuracy: 0.4538\n",
            "Epoch 192/500\n",
            "24/24 [==============================] - 0s 3ms/step - loss: 1.1918 - accuracy: 0.4729 - val_loss: 1.2191 - val_accuracy: 0.4535\n",
            "Epoch 193/500\n",
            "24/24 [==============================] - 0s 4ms/step - loss: 1.1911 - accuracy: 0.4719 - val_loss: 1.2159 - val_accuracy: 0.4545\n",
            "Epoch 194/500\n",
            "24/24 [==============================] - 0s 3ms/step - loss: 1.1928 - accuracy: 0.4699 - val_loss: 1.2172 - val_accuracy: 0.4572\n",
            "Epoch 195/500\n",
            "24/24 [==============================] - 0s 3ms/step - loss: 1.1911 - accuracy: 0.4726 - val_loss: 1.2162 - val_accuracy: 0.4545\n",
            "Epoch 196/500\n",
            "24/24 [==============================] - 0s 4ms/step - loss: 1.1918 - accuracy: 0.4727 - val_loss: 1.2160 - val_accuracy: 0.4524\n",
            "Epoch 197/500\n",
            "24/24 [==============================] - 0s 4ms/step - loss: 1.1910 - accuracy: 0.4780 - val_loss: 1.2170 - val_accuracy: 0.4548\n",
            "Epoch 198/500\n",
            "24/24 [==============================] - 0s 3ms/step - loss: 1.1904 - accuracy: 0.4741 - val_loss: 1.2162 - val_accuracy: 0.4552\n",
            "Epoch 199/500\n",
            "24/24 [==============================] - 0s 4ms/step - loss: 1.1906 - accuracy: 0.4771 - val_loss: 1.2171 - val_accuracy: 0.4524\n",
            "Epoch 200/500\n",
            "24/24 [==============================] - 0s 3ms/step - loss: 1.1905 - accuracy: 0.4756 - val_loss: 1.2166 - val_accuracy: 0.4559\n",
            "Epoch 201/500\n",
            "24/24 [==============================] - 0s 4ms/step - loss: 1.1902 - accuracy: 0.4763 - val_loss: 1.2175 - val_accuracy: 0.4552\n",
            "Epoch 202/500\n",
            "24/24 [==============================] - 0s 4ms/step - loss: 1.1896 - accuracy: 0.4756 - val_loss: 1.2160 - val_accuracy: 0.4555\n",
            "Epoch 203/500\n",
            "24/24 [==============================] - 0s 3ms/step - loss: 1.1903 - accuracy: 0.4760 - val_loss: 1.2172 - val_accuracy: 0.4589\n",
            "Epoch 204/500\n",
            "24/24 [==============================] - 0s 5ms/step - loss: 1.1901 - accuracy: 0.4744 - val_loss: 1.2161 - val_accuracy: 0.4562\n",
            "Epoch 205/500\n",
            "24/24 [==============================] - 0s 7ms/step - loss: 1.1899 - accuracy: 0.4756 - val_loss: 1.2162 - val_accuracy: 0.4531\n",
            "Epoch 206/500\n",
            "24/24 [==============================] - 0s 5ms/step - loss: 1.1897 - accuracy: 0.4800 - val_loss: 1.2157 - val_accuracy: 0.4531\n",
            "Epoch 207/500\n",
            "24/24 [==============================] - 0s 5ms/step - loss: 1.1895 - accuracy: 0.4756 - val_loss: 1.2162 - val_accuracy: 0.4562\n",
            "Epoch 208/500\n",
            "24/24 [==============================] - 0s 7ms/step - loss: 1.1893 - accuracy: 0.4777 - val_loss: 1.2162 - val_accuracy: 0.4572\n",
            "Epoch 209/500\n",
            "24/24 [==============================] - 0s 7ms/step - loss: 1.1893 - accuracy: 0.4766 - val_loss: 1.2162 - val_accuracy: 0.4548\n",
            "Epoch 210/500\n",
            "24/24 [==============================] - 0s 7ms/step - loss: 1.1893 - accuracy: 0.4778 - val_loss: 1.2158 - val_accuracy: 0.4545\n",
            "Epoch 211/500\n",
            "24/24 [==============================] - 0s 7ms/step - loss: 1.1902 - accuracy: 0.4744 - val_loss: 1.2170 - val_accuracy: 0.4535\n",
            "Epoch 212/500\n",
            "24/24 [==============================] - 0s 7ms/step - loss: 1.1897 - accuracy: 0.4780 - val_loss: 1.2161 - val_accuracy: 0.4507\n",
            "Epoch 213/500\n",
            "24/24 [==============================] - 0s 7ms/step - loss: 1.1896 - accuracy: 0.4778 - val_loss: 1.2165 - val_accuracy: 0.4510\n",
            "Epoch 214/500\n",
            "24/24 [==============================] - 0s 7ms/step - loss: 1.1884 - accuracy: 0.4766 - val_loss: 1.2162 - val_accuracy: 0.4538\n",
            "Epoch 215/500\n",
            "24/24 [==============================] - 0s 7ms/step - loss: 1.1892 - accuracy: 0.4785 - val_loss: 1.2168 - val_accuracy: 0.4521\n",
            "Epoch 216/500\n",
            "24/24 [==============================] - 0s 7ms/step - loss: 1.1887 - accuracy: 0.4792 - val_loss: 1.2161 - val_accuracy: 0.4524\n",
            "Epoch 217/500\n",
            "24/24 [==============================] - 0s 7ms/step - loss: 1.1891 - accuracy: 0.4763 - val_loss: 1.2156 - val_accuracy: 0.4541\n",
            "Epoch 218/500\n",
            "24/24 [==============================] - 0s 7ms/step - loss: 1.1885 - accuracy: 0.4775 - val_loss: 1.2165 - val_accuracy: 0.4576\n",
            "Epoch 219/500\n",
            "24/24 [==============================] - 0s 7ms/step - loss: 1.1880 - accuracy: 0.4768 - val_loss: 1.2164 - val_accuracy: 0.4555\n",
            "Epoch 220/500\n",
            "24/24 [==============================] - 0s 7ms/step - loss: 1.1886 - accuracy: 0.4758 - val_loss: 1.2174 - val_accuracy: 0.4576\n",
            "Epoch 221/500\n",
            "24/24 [==============================] - 0s 5ms/step - loss: 1.1884 - accuracy: 0.4765 - val_loss: 1.2160 - val_accuracy: 0.4579\n",
            "Epoch 222/500\n",
            "24/24 [==============================] - 0s 6ms/step - loss: 1.1883 - accuracy: 0.4783 - val_loss: 1.2159 - val_accuracy: 0.4559\n",
            "Epoch 223/500\n",
            "24/24 [==============================] - 0s 5ms/step - loss: 1.1880 - accuracy: 0.4800 - val_loss: 1.2158 - val_accuracy: 0.4541\n",
            "Epoch 224/500\n",
            "24/24 [==============================] - 0s 4ms/step - loss: 1.1883 - accuracy: 0.4802 - val_loss: 1.2162 - val_accuracy: 0.4559\n",
            "Epoch 225/500\n",
            "24/24 [==============================] - 0s 4ms/step - loss: 1.1881 - accuracy: 0.4765 - val_loss: 1.2164 - val_accuracy: 0.4545\n",
            "Epoch 226/500\n",
            "24/24 [==============================] - 0s 7ms/step - loss: 1.1886 - accuracy: 0.4766 - val_loss: 1.2172 - val_accuracy: 0.4548\n",
            "Epoch 227/500\n",
            "24/24 [==============================] - 0s 6ms/step - loss: 1.1875 - accuracy: 0.4795 - val_loss: 1.2155 - val_accuracy: 0.4538\n",
            "Epoch 228/500\n",
            "24/24 [==============================] - 0s 7ms/step - loss: 1.1872 - accuracy: 0.4797 - val_loss: 1.2155 - val_accuracy: 0.4565\n",
            "Epoch 229/500\n",
            "24/24 [==============================] - 0s 6ms/step - loss: 1.1873 - accuracy: 0.4771 - val_loss: 1.2161 - val_accuracy: 0.4572\n",
            "Epoch 230/500\n",
            "24/24 [==============================] - 0s 5ms/step - loss: 1.1872 - accuracy: 0.4780 - val_loss: 1.2155 - val_accuracy: 0.4583\n",
            "Epoch 231/500\n",
            "24/24 [==============================] - 0s 7ms/step - loss: 1.1870 - accuracy: 0.4768 - val_loss: 1.2161 - val_accuracy: 0.4565\n",
            "Epoch 232/500\n",
            "24/24 [==============================] - 0s 3ms/step - loss: 1.1873 - accuracy: 0.4790 - val_loss: 1.2162 - val_accuracy: 0.4552\n",
            "Epoch 233/500\n",
            "24/24 [==============================] - 0s 3ms/step - loss: 1.1870 - accuracy: 0.4778 - val_loss: 1.2159 - val_accuracy: 0.4569\n",
            "Epoch 234/500\n",
            "24/24 [==============================] - 0s 4ms/step - loss: 1.1873 - accuracy: 0.4773 - val_loss: 1.2144 - val_accuracy: 0.4586\n",
            "Epoch 235/500\n",
            "24/24 [==============================] - 0s 4ms/step - loss: 1.1872 - accuracy: 0.4787 - val_loss: 1.2159 - val_accuracy: 0.4593\n",
            "Epoch 236/500\n",
            "24/24 [==============================] - 0s 4ms/step - loss: 1.1875 - accuracy: 0.4809 - val_loss: 1.2153 - val_accuracy: 0.4548\n",
            "Epoch 237/500\n",
            "24/24 [==============================] - 0s 3ms/step - loss: 1.1868 - accuracy: 0.4797 - val_loss: 1.2167 - val_accuracy: 0.4538\n",
            "Epoch 238/500\n",
            "24/24 [==============================] - 0s 3ms/step - loss: 1.1865 - accuracy: 0.4814 - val_loss: 1.2154 - val_accuracy: 0.4535\n",
            "Epoch 239/500\n",
            "24/24 [==============================] - 0s 4ms/step - loss: 1.1865 - accuracy: 0.4795 - val_loss: 1.2153 - val_accuracy: 0.4565\n",
            "Epoch 240/500\n",
            "24/24 [==============================] - 0s 3ms/step - loss: 1.1879 - accuracy: 0.4783 - val_loss: 1.2179 - val_accuracy: 0.4538\n",
            "Epoch 241/500\n",
            "24/24 [==============================] - 0s 3ms/step - loss: 1.1872 - accuracy: 0.4797 - val_loss: 1.2156 - val_accuracy: 0.4576\n",
            "Epoch 242/500\n",
            "24/24 [==============================] - 0s 4ms/step - loss: 1.1862 - accuracy: 0.4827 - val_loss: 1.2155 - val_accuracy: 0.4572\n",
            "Epoch 243/500\n",
            "24/24 [==============================] - 0s 4ms/step - loss: 1.1861 - accuracy: 0.4788 - val_loss: 1.2166 - val_accuracy: 0.4555\n",
            "Epoch 244/500\n",
            "24/24 [==============================] - 0s 3ms/step - loss: 1.1868 - accuracy: 0.4802 - val_loss: 1.2148 - val_accuracy: 0.4545\n",
            "Epoch 245/500\n",
            "24/24 [==============================] - 0s 3ms/step - loss: 1.1865 - accuracy: 0.4827 - val_loss: 1.2163 - val_accuracy: 0.4565\n",
            "Epoch 246/500\n",
            "24/24 [==============================] - 0s 3ms/step - loss: 1.1861 - accuracy: 0.4794 - val_loss: 1.2155 - val_accuracy: 0.4569\n",
            "Epoch 247/500\n",
            "24/24 [==============================] - 0s 3ms/step - loss: 1.1865 - accuracy: 0.4804 - val_loss: 1.2148 - val_accuracy: 0.4535\n",
            "Epoch 248/500\n",
            "24/24 [==============================] - 0s 3ms/step - loss: 1.1860 - accuracy: 0.4814 - val_loss: 1.2161 - val_accuracy: 0.4569\n",
            "Epoch 249/500\n",
            "24/24 [==============================] - 0s 3ms/step - loss: 1.1856 - accuracy: 0.4817 - val_loss: 1.2147 - val_accuracy: 0.4596\n",
            "Epoch 250/500\n",
            "24/24 [==============================] - 0s 4ms/step - loss: 1.1859 - accuracy: 0.4809 - val_loss: 1.2150 - val_accuracy: 0.4538\n",
            "Epoch 251/500\n",
            "24/24 [==============================] - 0s 4ms/step - loss: 1.1860 - accuracy: 0.4782 - val_loss: 1.2152 - val_accuracy: 0.4552\n",
            "Epoch 252/500\n",
            "24/24 [==============================] - 0s 4ms/step - loss: 1.1864 - accuracy: 0.4775 - val_loss: 1.2151 - val_accuracy: 0.4565\n",
            "Epoch 253/500\n",
            "24/24 [==============================] - 0s 3ms/step - loss: 1.1862 - accuracy: 0.4805 - val_loss: 1.2169 - val_accuracy: 0.4576\n",
            "Epoch 254/500\n",
            "24/24 [==============================] - 0s 3ms/step - loss: 1.1874 - accuracy: 0.4804 - val_loss: 1.2153 - val_accuracy: 0.4572\n",
            "Epoch 255/500\n",
            "24/24 [==============================] - 0s 3ms/step - loss: 1.1854 - accuracy: 0.4805 - val_loss: 1.2156 - val_accuracy: 0.4593\n",
            "Epoch 256/500\n",
            "24/24 [==============================] - 0s 4ms/step - loss: 1.1856 - accuracy: 0.4826 - val_loss: 1.2159 - val_accuracy: 0.4572\n",
            "Epoch 257/500\n",
            "24/24 [==============================] - 0s 3ms/step - loss: 1.1851 - accuracy: 0.4814 - val_loss: 1.2153 - val_accuracy: 0.4535\n",
            "Epoch 258/500\n",
            "24/24 [==============================] - 0s 3ms/step - loss: 1.1861 - accuracy: 0.4832 - val_loss: 1.2158 - val_accuracy: 0.4538\n",
            "Epoch 259/500\n",
            "24/24 [==============================] - 0s 3ms/step - loss: 1.1858 - accuracy: 0.4812 - val_loss: 1.2161 - val_accuracy: 0.4552\n",
            "Epoch 260/500\n",
            "24/24 [==============================] - 0s 3ms/step - loss: 1.1851 - accuracy: 0.4804 - val_loss: 1.2158 - val_accuracy: 0.4559\n",
            "Epoch 261/500\n",
            "24/24 [==============================] - 0s 3ms/step - loss: 1.1856 - accuracy: 0.4800 - val_loss: 1.2163 - val_accuracy: 0.4559\n",
            "Epoch 262/500\n",
            "24/24 [==============================] - 0s 4ms/step - loss: 1.1852 - accuracy: 0.4800 - val_loss: 1.2153 - val_accuracy: 0.4572\n",
            "Epoch 263/500\n",
            "24/24 [==============================] - 0s 4ms/step - loss: 1.1853 - accuracy: 0.4804 - val_loss: 1.2153 - val_accuracy: 0.4586\n",
            "Epoch 264/500\n",
            "24/24 [==============================] - 0s 4ms/step - loss: 1.1847 - accuracy: 0.4809 - val_loss: 1.2156 - val_accuracy: 0.4600\n",
            "Epoch 265/500\n",
            "24/24 [==============================] - 0s 3ms/step - loss: 1.1847 - accuracy: 0.4788 - val_loss: 1.2151 - val_accuracy: 0.4610\n",
            "Epoch 266/500\n",
            "24/24 [==============================] - 0s 3ms/step - loss: 1.1846 - accuracy: 0.4816 - val_loss: 1.2151 - val_accuracy: 0.4583\n",
            "Epoch 267/500\n",
            "24/24 [==============================] - 0s 3ms/step - loss: 1.1860 - accuracy: 0.4761 - val_loss: 1.2145 - val_accuracy: 0.4562\n",
            "Epoch 268/500\n",
            "24/24 [==============================] - 0s 3ms/step - loss: 1.1850 - accuracy: 0.4814 - val_loss: 1.2141 - val_accuracy: 0.4586\n",
            "Epoch 269/500\n",
            "24/24 [==============================] - 0s 3ms/step - loss: 1.1849 - accuracy: 0.4822 - val_loss: 1.2152 - val_accuracy: 0.4583\n",
            "Epoch 270/500\n",
            "24/24 [==============================] - 0s 4ms/step - loss: 1.1846 - accuracy: 0.4817 - val_loss: 1.2148 - val_accuracy: 0.4565\n",
            "Epoch 271/500\n",
            "24/24 [==============================] - 0s 3ms/step - loss: 1.1841 - accuracy: 0.4836 - val_loss: 1.2146 - val_accuracy: 0.4559\n",
            "Epoch 272/500\n",
            "24/24 [==============================] - 0s 3ms/step - loss: 1.1845 - accuracy: 0.4792 - val_loss: 1.2147 - val_accuracy: 0.4593\n",
            "Epoch 273/500\n",
            "24/24 [==============================] - 0s 4ms/step - loss: 1.1841 - accuracy: 0.4805 - val_loss: 1.2153 - val_accuracy: 0.4569\n",
            "Epoch 274/500\n",
            "24/24 [==============================] - 0s 4ms/step - loss: 1.1842 - accuracy: 0.4821 - val_loss: 1.2150 - val_accuracy: 0.4545\n",
            "Epoch 275/500\n",
            "24/24 [==============================] - 0s 3ms/step - loss: 1.1840 - accuracy: 0.4834 - val_loss: 1.2149 - val_accuracy: 0.4548\n",
            "Epoch 276/500\n",
            "24/24 [==============================] - 0s 3ms/step - loss: 1.1846 - accuracy: 0.4839 - val_loss: 1.2148 - val_accuracy: 0.4545\n",
            "Epoch 277/500\n",
            "24/24 [==============================] - 0s 4ms/step - loss: 1.1845 - accuracy: 0.4795 - val_loss: 1.2163 - val_accuracy: 0.4562\n",
            "Epoch 278/500\n",
            "24/24 [==============================] - 0s 3ms/step - loss: 1.1839 - accuracy: 0.4795 - val_loss: 1.2153 - val_accuracy: 0.4576\n",
            "Epoch 279/500\n",
            "24/24 [==============================] - 0s 3ms/step - loss: 1.1841 - accuracy: 0.4827 - val_loss: 1.2149 - val_accuracy: 0.4579\n",
            "Epoch 280/500\n",
            "24/24 [==============================] - 0s 3ms/step - loss: 1.1837 - accuracy: 0.4817 - val_loss: 1.2160 - val_accuracy: 0.4572\n",
            "Epoch 281/500\n",
            "24/24 [==============================] - 0s 3ms/step - loss: 1.1856 - accuracy: 0.4756 - val_loss: 1.2139 - val_accuracy: 0.4538\n",
            "Epoch 282/500\n",
            "24/24 [==============================] - 0s 4ms/step - loss: 1.1848 - accuracy: 0.4802 - val_loss: 1.2152 - val_accuracy: 0.4552\n",
            "Epoch 283/500\n",
            "24/24 [==============================] - 0s 3ms/step - loss: 1.1837 - accuracy: 0.4838 - val_loss: 1.2144 - val_accuracy: 0.4548\n",
            "Epoch 284/500\n",
            "24/24 [==============================] - 0s 5ms/step - loss: 1.1838 - accuracy: 0.4804 - val_loss: 1.2150 - val_accuracy: 0.4559\n",
            "Epoch 285/500\n",
            "24/24 [==============================] - 0s 4ms/step - loss: 1.1838 - accuracy: 0.4817 - val_loss: 1.2155 - val_accuracy: 0.4579\n",
            "Epoch 286/500\n",
            "24/24 [==============================] - 0s 4ms/step - loss: 1.1834 - accuracy: 0.4819 - val_loss: 1.2146 - val_accuracy: 0.4569\n",
            "Epoch 287/500\n",
            "24/24 [==============================] - 0s 4ms/step - loss: 1.1839 - accuracy: 0.4799 - val_loss: 1.2170 - val_accuracy: 0.4559\n",
            "Epoch 288/500\n",
            "24/24 [==============================] - 0s 4ms/step - loss: 1.1842 - accuracy: 0.4829 - val_loss: 1.2151 - val_accuracy: 0.4535\n",
            "Epoch 289/500\n",
            "24/24 [==============================] - 0s 4ms/step - loss: 1.1841 - accuracy: 0.4817 - val_loss: 1.2154 - val_accuracy: 0.4589\n",
            "Epoch 290/500\n",
            "24/24 [==============================] - 0s 3ms/step - loss: 1.1834 - accuracy: 0.4787 - val_loss: 1.2151 - val_accuracy: 0.4583\n",
            "Epoch 291/500\n",
            "24/24 [==============================] - 0s 3ms/step - loss: 1.1837 - accuracy: 0.4831 - val_loss: 1.2145 - val_accuracy: 0.4607\n",
            "Epoch 292/500\n",
            "24/24 [==============================] - 0s 3ms/step - loss: 1.1835 - accuracy: 0.4810 - val_loss: 1.2157 - val_accuracy: 0.4607\n",
            "Epoch 293/500\n",
            "24/24 [==============================] - 0s 3ms/step - loss: 1.1828 - accuracy: 0.4856 - val_loss: 1.2144 - val_accuracy: 0.4600\n",
            "Epoch 294/500\n",
            "24/24 [==============================] - 0s 3ms/step - loss: 1.1832 - accuracy: 0.4816 - val_loss: 1.2147 - val_accuracy: 0.4586\n",
            "Epoch 295/500\n",
            "24/24 [==============================] - 0s 4ms/step - loss: 1.1833 - accuracy: 0.4817 - val_loss: 1.2146 - val_accuracy: 0.4569\n",
            "Epoch 296/500\n",
            "24/24 [==============================] - 0s 4ms/step - loss: 1.1829 - accuracy: 0.4816 - val_loss: 1.2148 - val_accuracy: 0.4565\n",
            "Epoch 297/500\n",
            "24/24 [==============================] - 0s 3ms/step - loss: 1.1828 - accuracy: 0.4827 - val_loss: 1.2150 - val_accuracy: 0.4600\n",
            "Epoch 298/500\n",
            "24/24 [==============================] - 0s 3ms/step - loss: 1.1828 - accuracy: 0.4827 - val_loss: 1.2155 - val_accuracy: 0.4596\n",
            "Epoch 299/500\n",
            "24/24 [==============================] - 0s 3ms/step - loss: 1.1833 - accuracy: 0.4817 - val_loss: 1.2145 - val_accuracy: 0.4565\n",
            "Epoch 300/500\n",
            "24/24 [==============================] - 0s 3ms/step - loss: 1.1822 - accuracy: 0.4804 - val_loss: 1.2171 - val_accuracy: 0.4555\n",
            "Epoch 301/500\n",
            "24/24 [==============================] - 0s 4ms/step - loss: 1.1840 - accuracy: 0.4792 - val_loss: 1.2144 - val_accuracy: 0.4562\n",
            "Epoch 302/500\n",
            "24/24 [==============================] - 0s 4ms/step - loss: 1.1833 - accuracy: 0.4832 - val_loss: 1.2140 - val_accuracy: 0.4579\n",
            "Epoch 303/500\n",
            "24/24 [==============================] - 0s 4ms/step - loss: 1.1824 - accuracy: 0.4822 - val_loss: 1.2155 - val_accuracy: 0.4555\n",
            "Epoch 304/500\n",
            "24/24 [==============================] - 0s 3ms/step - loss: 1.1834 - accuracy: 0.4817 - val_loss: 1.2147 - val_accuracy: 0.4562\n",
            "Epoch 305/500\n",
            "24/24 [==============================] - 0s 4ms/step - loss: 1.1824 - accuracy: 0.4814 - val_loss: 1.2143 - val_accuracy: 0.4579\n",
            "Epoch 306/500\n",
            "24/24 [==============================] - 0s 4ms/step - loss: 1.1836 - accuracy: 0.4788 - val_loss: 1.2144 - val_accuracy: 0.4579\n",
            "Epoch 307/500\n",
            "24/24 [==============================] - 0s 3ms/step - loss: 1.1825 - accuracy: 0.4836 - val_loss: 1.2142 - val_accuracy: 0.4583\n",
            "Epoch 308/500\n",
            "24/24 [==============================] - 0s 4ms/step - loss: 1.1829 - accuracy: 0.4792 - val_loss: 1.2155 - val_accuracy: 0.4531\n",
            "Epoch 309/500\n",
            "24/24 [==============================] - 0s 3ms/step - loss: 1.1826 - accuracy: 0.4787 - val_loss: 1.2152 - val_accuracy: 0.4600\n",
            "Epoch 310/500\n",
            "24/24 [==============================] - 0s 4ms/step - loss: 1.1830 - accuracy: 0.4826 - val_loss: 1.2140 - val_accuracy: 0.4569\n",
            "Epoch 311/500\n",
            "24/24 [==============================] - 0s 4ms/step - loss: 1.1824 - accuracy: 0.4816 - val_loss: 1.2151 - val_accuracy: 0.4562\n",
            "Epoch 312/500\n",
            "24/24 [==============================] - 0s 4ms/step - loss: 1.1819 - accuracy: 0.4841 - val_loss: 1.2140 - val_accuracy: 0.4528\n",
            "Epoch 313/500\n",
            "24/24 [==============================] - 0s 4ms/step - loss: 1.1822 - accuracy: 0.4790 - val_loss: 1.2165 - val_accuracy: 0.4562\n",
            "Epoch 314/500\n",
            "24/24 [==============================] - 0s 3ms/step - loss: 1.1827 - accuracy: 0.4821 - val_loss: 1.2143 - val_accuracy: 0.4538\n",
            "Epoch 315/500\n",
            "24/24 [==============================] - 0s 3ms/step - loss: 1.1822 - accuracy: 0.4841 - val_loss: 1.2145 - val_accuracy: 0.4555\n",
            "Epoch 316/500\n",
            "24/24 [==============================] - 0s 4ms/step - loss: 1.1825 - accuracy: 0.4822 - val_loss: 1.2162 - val_accuracy: 0.4524\n",
            "Epoch 317/500\n",
            "24/24 [==============================] - 0s 4ms/step - loss: 1.1823 - accuracy: 0.4832 - val_loss: 1.2144 - val_accuracy: 0.4589\n",
            "Epoch 318/500\n",
            "24/24 [==============================] - 0s 4ms/step - loss: 1.1816 - accuracy: 0.4826 - val_loss: 1.2151 - val_accuracy: 0.4589\n",
            "Epoch 319/500\n",
            "24/24 [==============================] - 0s 4ms/step - loss: 1.1818 - accuracy: 0.4805 - val_loss: 1.2145 - val_accuracy: 0.4607\n",
            "Epoch 320/500\n",
            "24/24 [==============================] - 0s 4ms/step - loss: 1.1819 - accuracy: 0.4844 - val_loss: 1.2142 - val_accuracy: 0.4569\n",
            "Epoch 321/500\n",
            "24/24 [==============================] - 0s 4ms/step - loss: 1.1814 - accuracy: 0.4829 - val_loss: 1.2148 - val_accuracy: 0.4583\n",
            "Epoch 322/500\n",
            "24/24 [==============================] - 0s 4ms/step - loss: 1.1825 - accuracy: 0.4782 - val_loss: 1.2147 - val_accuracy: 0.4607\n",
            "Epoch 323/500\n",
            "24/24 [==============================] - 0s 4ms/step - loss: 1.1809 - accuracy: 0.4817 - val_loss: 1.2144 - val_accuracy: 0.4565\n",
            "Epoch 324/500\n",
            "24/24 [==============================] - 0s 4ms/step - loss: 1.1816 - accuracy: 0.4839 - val_loss: 1.2151 - val_accuracy: 0.4572\n",
            "Epoch 325/500\n",
            "24/24 [==============================] - 0s 3ms/step - loss: 1.1826 - accuracy: 0.4810 - val_loss: 1.2148 - val_accuracy: 0.4569\n",
            "Epoch 326/500\n",
            "24/24 [==============================] - 0s 4ms/step - loss: 1.1817 - accuracy: 0.4790 - val_loss: 1.2147 - val_accuracy: 0.4576\n",
            "Epoch 327/500\n",
            "24/24 [==============================] - 0s 4ms/step - loss: 1.1815 - accuracy: 0.4846 - val_loss: 1.2139 - val_accuracy: 0.4596\n",
            "Epoch 328/500\n",
            "24/24 [==============================] - 0s 4ms/step - loss: 1.1816 - accuracy: 0.4821 - val_loss: 1.2144 - val_accuracy: 0.4576\n",
            "Epoch 329/500\n",
            "24/24 [==============================] - 0s 4ms/step - loss: 1.1816 - accuracy: 0.4821 - val_loss: 1.2142 - val_accuracy: 0.4600\n",
            "Epoch 330/500\n",
            "24/24 [==============================] - 0s 3ms/step - loss: 1.1818 - accuracy: 0.4800 - val_loss: 1.2148 - val_accuracy: 0.4562\n",
            "Epoch 331/500\n",
            "24/24 [==============================] - 0s 3ms/step - loss: 1.1807 - accuracy: 0.4805 - val_loss: 1.2144 - val_accuracy: 0.4555\n",
            "Epoch 332/500\n",
            "24/24 [==============================] - 0s 3ms/step - loss: 1.1818 - accuracy: 0.4821 - val_loss: 1.2144 - val_accuracy: 0.4607\n",
            "Epoch 333/500\n",
            "24/24 [==============================] - 0s 4ms/step - loss: 1.1819 - accuracy: 0.4778 - val_loss: 1.2136 - val_accuracy: 0.4614\n",
            "Epoch 334/500\n",
            "24/24 [==============================] - 0s 4ms/step - loss: 1.1813 - accuracy: 0.4846 - val_loss: 1.2133 - val_accuracy: 0.4620\n",
            "Epoch 335/500\n",
            "24/24 [==============================] - 0s 4ms/step - loss: 1.1813 - accuracy: 0.4826 - val_loss: 1.2131 - val_accuracy: 0.4569\n",
            "Epoch 336/500\n",
            "24/24 [==============================] - 0s 3ms/step - loss: 1.1806 - accuracy: 0.4831 - val_loss: 1.2137 - val_accuracy: 0.4603\n",
            "Epoch 337/500\n",
            "24/24 [==============================] - 0s 3ms/step - loss: 1.1809 - accuracy: 0.4839 - val_loss: 1.2135 - val_accuracy: 0.4555\n",
            "Epoch 338/500\n",
            "24/24 [==============================] - 0s 3ms/step - loss: 1.1808 - accuracy: 0.4839 - val_loss: 1.2133 - val_accuracy: 0.4572\n",
            "Epoch 339/500\n",
            "24/24 [==============================] - 0s 5ms/step - loss: 1.1804 - accuracy: 0.4821 - val_loss: 1.2135 - val_accuracy: 0.4541\n",
            "Epoch 340/500\n",
            "24/24 [==============================] - 0s 5ms/step - loss: 1.1811 - accuracy: 0.4821 - val_loss: 1.2146 - val_accuracy: 0.4600\n",
            "Epoch 341/500\n",
            "24/24 [==============================] - 0s 7ms/step - loss: 1.1810 - accuracy: 0.4810 - val_loss: 1.2130 - val_accuracy: 0.4565\n",
            "Epoch 342/500\n",
            "24/24 [==============================] - 0s 5ms/step - loss: 1.1804 - accuracy: 0.4824 - val_loss: 1.2137 - val_accuracy: 0.4576\n",
            "Epoch 343/500\n",
            "24/24 [==============================] - 0s 5ms/step - loss: 1.1805 - accuracy: 0.4788 - val_loss: 1.2134 - val_accuracy: 0.4562\n",
            "Epoch 344/500\n",
            "24/24 [==============================] - 0s 6ms/step - loss: 1.1809 - accuracy: 0.4843 - val_loss: 1.2130 - val_accuracy: 0.4576\n",
            "Epoch 345/500\n",
            "24/24 [==============================] - 0s 7ms/step - loss: 1.1817 - accuracy: 0.4795 - val_loss: 1.2158 - val_accuracy: 0.4545\n",
            "Epoch 346/500\n",
            "24/24 [==============================] - 0s 6ms/step - loss: 1.1806 - accuracy: 0.4809 - val_loss: 1.2139 - val_accuracy: 0.4579\n",
            "Epoch 347/500\n",
            "24/24 [==============================] - 0s 7ms/step - loss: 1.1817 - accuracy: 0.4819 - val_loss: 1.2137 - val_accuracy: 0.4545\n",
            "Epoch 348/500\n",
            "24/24 [==============================] - 0s 7ms/step - loss: 1.1810 - accuracy: 0.4834 - val_loss: 1.2135 - val_accuracy: 0.4593\n",
            "Epoch 349/500\n",
            "24/24 [==============================] - 0s 8ms/step - loss: 1.1807 - accuracy: 0.4807 - val_loss: 1.2135 - val_accuracy: 0.4565\n",
            "Epoch 350/500\n",
            "24/24 [==============================] - 0s 6ms/step - loss: 1.1811 - accuracy: 0.4807 - val_loss: 1.2150 - val_accuracy: 0.4559\n",
            "Epoch 351/500\n",
            "24/24 [==============================] - 0s 6ms/step - loss: 1.1798 - accuracy: 0.4787 - val_loss: 1.2136 - val_accuracy: 0.4620\n",
            "Epoch 352/500\n",
            "24/24 [==============================] - 0s 6ms/step - loss: 1.1799 - accuracy: 0.4826 - val_loss: 1.2136 - val_accuracy: 0.4593\n",
            "Epoch 353/500\n",
            "24/24 [==============================] - 0s 7ms/step - loss: 1.1797 - accuracy: 0.4870 - val_loss: 1.2134 - val_accuracy: 0.4538\n",
            "Epoch 354/500\n",
            "24/24 [==============================] - 0s 7ms/step - loss: 1.1800 - accuracy: 0.4814 - val_loss: 1.2135 - val_accuracy: 0.4548\n",
            "Epoch 355/500\n",
            "24/24 [==============================] - 0s 5ms/step - loss: 1.1810 - accuracy: 0.4834 - val_loss: 1.2148 - val_accuracy: 0.4579\n",
            "Epoch 356/500\n",
            "24/24 [==============================] - 0s 8ms/step - loss: 1.1810 - accuracy: 0.4812 - val_loss: 1.2146 - val_accuracy: 0.4517\n",
            "Epoch 357/500\n",
            "24/24 [==============================] - 0s 6ms/step - loss: 1.1808 - accuracy: 0.4794 - val_loss: 1.2143 - val_accuracy: 0.4576\n",
            "Epoch 358/500\n",
            "24/24 [==============================] - 0s 5ms/step - loss: 1.1796 - accuracy: 0.4819 - val_loss: 1.2140 - val_accuracy: 0.4572\n",
            "Epoch 359/500\n",
            "24/24 [==============================] - 0s 7ms/step - loss: 1.1801 - accuracy: 0.4788 - val_loss: 1.2133 - val_accuracy: 0.4576\n",
            "Epoch 360/500\n",
            "24/24 [==============================] - 0s 5ms/step - loss: 1.1796 - accuracy: 0.4795 - val_loss: 1.2140 - val_accuracy: 0.4559\n",
            "Epoch 361/500\n",
            "24/24 [==============================] - 0s 6ms/step - loss: 1.1796 - accuracy: 0.4792 - val_loss: 1.2134 - val_accuracy: 0.4579\n",
            "Epoch 362/500\n",
            "24/24 [==============================] - 0s 7ms/step - loss: 1.1796 - accuracy: 0.4783 - val_loss: 1.2131 - val_accuracy: 0.4586\n",
            "Epoch 363/500\n",
            "24/24 [==============================] - 0s 5ms/step - loss: 1.1801 - accuracy: 0.4770 - val_loss: 1.2161 - val_accuracy: 0.4583\n",
            "Epoch 364/500\n",
            "24/24 [==============================] - 0s 6ms/step - loss: 1.1795 - accuracy: 0.4821 - val_loss: 1.2133 - val_accuracy: 0.4507\n",
            "Epoch 365/500\n",
            "24/24 [==============================] - 0s 8ms/step - loss: 1.1798 - accuracy: 0.4814 - val_loss: 1.2136 - val_accuracy: 0.4576\n",
            "Epoch 366/500\n",
            "24/24 [==============================] - 0s 7ms/step - loss: 1.1797 - accuracy: 0.4809 - val_loss: 1.2133 - val_accuracy: 0.4596\n",
            "Epoch 367/500\n",
            "24/24 [==============================] - 0s 5ms/step - loss: 1.1791 - accuracy: 0.4821 - val_loss: 1.2126 - val_accuracy: 0.4559\n",
            "Epoch 368/500\n",
            "24/24 [==============================] - 0s 5ms/step - loss: 1.1795 - accuracy: 0.4797 - val_loss: 1.2129 - val_accuracy: 0.4576\n",
            "Epoch 369/500\n",
            "24/24 [==============================] - 0s 4ms/step - loss: 1.1795 - accuracy: 0.4812 - val_loss: 1.2126 - val_accuracy: 0.4569\n",
            "Epoch 370/500\n",
            "24/24 [==============================] - 0s 4ms/step - loss: 1.1795 - accuracy: 0.4816 - val_loss: 1.2135 - val_accuracy: 0.4576\n",
            "Epoch 371/500\n",
            "24/24 [==============================] - 0s 3ms/step - loss: 1.1790 - accuracy: 0.4816 - val_loss: 1.2130 - val_accuracy: 0.4589\n",
            "Epoch 372/500\n",
            "24/24 [==============================] - 0s 4ms/step - loss: 1.1787 - accuracy: 0.4824 - val_loss: 1.2127 - val_accuracy: 0.4576\n",
            "Epoch 373/500\n",
            "24/24 [==============================] - 0s 3ms/step - loss: 1.1792 - accuracy: 0.4792 - val_loss: 1.2135 - val_accuracy: 0.4548\n",
            "Epoch 374/500\n",
            "24/24 [==============================] - 0s 3ms/step - loss: 1.1789 - accuracy: 0.4821 - val_loss: 1.2122 - val_accuracy: 0.4586\n",
            "Epoch 375/500\n",
            "24/24 [==============================] - 0s 4ms/step - loss: 1.1789 - accuracy: 0.4788 - val_loss: 1.2126 - val_accuracy: 0.4572\n",
            "Epoch 376/500\n",
            "24/24 [==============================] - 0s 4ms/step - loss: 1.1790 - accuracy: 0.4817 - val_loss: 1.2133 - val_accuracy: 0.4579\n",
            "Epoch 377/500\n",
            "24/24 [==============================] - 0s 4ms/step - loss: 1.1791 - accuracy: 0.4799 - val_loss: 1.2131 - val_accuracy: 0.4583\n",
            "Epoch 378/500\n",
            "24/24 [==============================] - 0s 4ms/step - loss: 1.1795 - accuracy: 0.4804 - val_loss: 1.2142 - val_accuracy: 0.4596\n",
            "Epoch 379/500\n",
            "24/24 [==============================] - 0s 3ms/step - loss: 1.1787 - accuracy: 0.4810 - val_loss: 1.2126 - val_accuracy: 0.4610\n",
            "Epoch 380/500\n",
            "24/24 [==============================] - 0s 3ms/step - loss: 1.1788 - accuracy: 0.4836 - val_loss: 1.2128 - val_accuracy: 0.4607\n",
            "Epoch 381/500\n",
            "24/24 [==============================] - 0s 3ms/step - loss: 1.1788 - accuracy: 0.4792 - val_loss: 1.2135 - val_accuracy: 0.4610\n",
            "Epoch 382/500\n",
            "24/24 [==============================] - 0s 3ms/step - loss: 1.1790 - accuracy: 0.4819 - val_loss: 1.2130 - val_accuracy: 0.4531\n",
            "Epoch 383/500\n",
            "24/24 [==============================] - 0s 4ms/step - loss: 1.1801 - accuracy: 0.4797 - val_loss: 1.2127 - val_accuracy: 0.4593\n",
            "Epoch 384/500\n",
            "24/24 [==============================] - 0s 3ms/step - loss: 1.1788 - accuracy: 0.4858 - val_loss: 1.2134 - val_accuracy: 0.4583\n",
            "Epoch 385/500\n",
            "24/24 [==============================] - 0s 4ms/step - loss: 1.1794 - accuracy: 0.4788 - val_loss: 1.2126 - val_accuracy: 0.4583\n",
            "Epoch 386/500\n",
            "24/24 [==============================] - 0s 4ms/step - loss: 1.1789 - accuracy: 0.4826 - val_loss: 1.2139 - val_accuracy: 0.4579\n",
            "Epoch 387/500\n",
            "24/24 [==============================] - 0s 4ms/step - loss: 1.1789 - accuracy: 0.4831 - val_loss: 1.2126 - val_accuracy: 0.4565\n",
            "Epoch 388/500\n",
            "24/24 [==============================] - 0s 4ms/step - loss: 1.1787 - accuracy: 0.4819 - val_loss: 1.2159 - val_accuracy: 0.4576\n",
            "Epoch 389/500\n",
            "24/24 [==============================] - 0s 4ms/step - loss: 1.1787 - accuracy: 0.4827 - val_loss: 1.2127 - val_accuracy: 0.4576\n",
            "Epoch 390/500\n",
            "24/24 [==============================] - 0s 3ms/step - loss: 1.1794 - accuracy: 0.4810 - val_loss: 1.2141 - val_accuracy: 0.4586\n",
            "Epoch 391/500\n",
            "24/24 [==============================] - 0s 4ms/step - loss: 1.1790 - accuracy: 0.4783 - val_loss: 1.2133 - val_accuracy: 0.4572\n",
            "Epoch 392/500\n",
            "24/24 [==============================] - 0s 3ms/step - loss: 1.1786 - accuracy: 0.4807 - val_loss: 1.2134 - val_accuracy: 0.4586\n",
            "Epoch 393/500\n",
            "24/24 [==============================] - 0s 3ms/step - loss: 1.1784 - accuracy: 0.4819 - val_loss: 1.2141 - val_accuracy: 0.4589\n",
            "Epoch 394/500\n",
            "24/24 [==============================] - 0s 3ms/step - loss: 1.1782 - accuracy: 0.4788 - val_loss: 1.2141 - val_accuracy: 0.4596\n",
            "Epoch 395/500\n",
            "24/24 [==============================] - 0s 3ms/step - loss: 1.1785 - accuracy: 0.4814 - val_loss: 1.2135 - val_accuracy: 0.4600\n",
            "Epoch 396/500\n",
            "24/24 [==============================] - 0s 4ms/step - loss: 1.1786 - accuracy: 0.4800 - val_loss: 1.2129 - val_accuracy: 0.4576\n",
            "Epoch 397/500\n",
            "24/24 [==============================] - 0s 3ms/step - loss: 1.1784 - accuracy: 0.4826 - val_loss: 1.2135 - val_accuracy: 0.4555\n",
            "Epoch 398/500\n",
            "24/24 [==============================] - 0s 5ms/step - loss: 1.1788 - accuracy: 0.4802 - val_loss: 1.2138 - val_accuracy: 0.4593\n",
            "Epoch 399/500\n",
            "24/24 [==============================] - 0s 4ms/step - loss: 1.1786 - accuracy: 0.4838 - val_loss: 1.2135 - val_accuracy: 0.4589\n",
            "Epoch 400/500\n",
            "24/24 [==============================] - 0s 4ms/step - loss: 1.1789 - accuracy: 0.4763 - val_loss: 1.2134 - val_accuracy: 0.4603\n",
            "Epoch 401/500\n",
            "24/24 [==============================] - 0s 3ms/step - loss: 1.1782 - accuracy: 0.4810 - val_loss: 1.2126 - val_accuracy: 0.4572\n",
            "Epoch 402/500\n",
            "24/24 [==============================] - 0s 4ms/step - loss: 1.1783 - accuracy: 0.4814 - val_loss: 1.2135 - val_accuracy: 0.4596\n",
            "Epoch 403/500\n",
            "24/24 [==============================] - 0s 4ms/step - loss: 1.1792 - accuracy: 0.4829 - val_loss: 1.2124 - val_accuracy: 0.4565\n",
            "Epoch 404/500\n",
            "24/24 [==============================] - 0s 4ms/step - loss: 1.1781 - accuracy: 0.4832 - val_loss: 1.2124 - val_accuracy: 0.4593\n",
            "Epoch 405/500\n",
            "24/24 [==============================] - 0s 4ms/step - loss: 1.1782 - accuracy: 0.4807 - val_loss: 1.2124 - val_accuracy: 0.4614\n",
            "Epoch 406/500\n",
            "24/24 [==============================] - 0s 4ms/step - loss: 1.1785 - accuracy: 0.4787 - val_loss: 1.2124 - val_accuracy: 0.4593\n",
            "Epoch 407/500\n",
            "24/24 [==============================] - 0s 3ms/step - loss: 1.1777 - accuracy: 0.4800 - val_loss: 1.2135 - val_accuracy: 0.4579\n",
            "Epoch 408/500\n",
            "24/24 [==============================] - 0s 3ms/step - loss: 1.1779 - accuracy: 0.4822 - val_loss: 1.2122 - val_accuracy: 0.4555\n",
            "Epoch 409/500\n",
            "24/24 [==============================] - 0s 4ms/step - loss: 1.1800 - accuracy: 0.4756 - val_loss: 1.2131 - val_accuracy: 0.4607\n",
            "Epoch 410/500\n",
            "24/24 [==============================] - 0s 4ms/step - loss: 1.1780 - accuracy: 0.4794 - val_loss: 1.2127 - val_accuracy: 0.4614\n",
            "Epoch 411/500\n",
            "24/24 [==============================] - 0s 4ms/step - loss: 1.1781 - accuracy: 0.4799 - val_loss: 1.2116 - val_accuracy: 0.4596\n",
            "Epoch 412/500\n",
            "24/24 [==============================] - 0s 4ms/step - loss: 1.1780 - accuracy: 0.4807 - val_loss: 1.2122 - val_accuracy: 0.4586\n",
            "Epoch 413/500\n",
            "24/24 [==============================] - 0s 4ms/step - loss: 1.1775 - accuracy: 0.4819 - val_loss: 1.2131 - val_accuracy: 0.4583\n",
            "Epoch 414/500\n",
            "24/24 [==============================] - 0s 4ms/step - loss: 1.1782 - accuracy: 0.4819 - val_loss: 1.2122 - val_accuracy: 0.4552\n",
            "Epoch 415/500\n",
            "24/24 [==============================] - 0s 4ms/step - loss: 1.1783 - accuracy: 0.4799 - val_loss: 1.2128 - val_accuracy: 0.4559\n",
            "Epoch 416/500\n",
            "24/24 [==============================] - 0s 3ms/step - loss: 1.1777 - accuracy: 0.4809 - val_loss: 1.2123 - val_accuracy: 0.4555\n",
            "Epoch 417/500\n",
            "24/24 [==============================] - 0s 4ms/step - loss: 1.1775 - accuracy: 0.4831 - val_loss: 1.2127 - val_accuracy: 0.4569\n",
            "Epoch 418/500\n",
            "24/24 [==============================] - 0s 3ms/step - loss: 1.1783 - accuracy: 0.4783 - val_loss: 1.2125 - val_accuracy: 0.4572\n",
            "Epoch 419/500\n",
            "24/24 [==============================] - 0s 4ms/step - loss: 1.1778 - accuracy: 0.4773 - val_loss: 1.2140 - val_accuracy: 0.4576\n",
            "Epoch 420/500\n",
            "24/24 [==============================] - 0s 4ms/step - loss: 1.1781 - accuracy: 0.4804 - val_loss: 1.2125 - val_accuracy: 0.4572\n",
            "Epoch 421/500\n",
            "24/24 [==============================] - 0s 4ms/step - loss: 1.1777 - accuracy: 0.4829 - val_loss: 1.2129 - val_accuracy: 0.4579\n",
            "Epoch 422/500\n",
            "24/24 [==============================] - 0s 4ms/step - loss: 1.1774 - accuracy: 0.4819 - val_loss: 1.2128 - val_accuracy: 0.4514\n",
            "Epoch 423/500\n",
            "24/24 [==============================] - 0s 4ms/step - loss: 1.1777 - accuracy: 0.4794 - val_loss: 1.2131 - val_accuracy: 0.4552\n",
            "Epoch 424/500\n",
            "24/24 [==============================] - 0s 3ms/step - loss: 1.1778 - accuracy: 0.4819 - val_loss: 1.2122 - val_accuracy: 0.4610\n",
            "Epoch 425/500\n",
            "24/24 [==============================] - 0s 4ms/step - loss: 1.1777 - accuracy: 0.4814 - val_loss: 1.2131 - val_accuracy: 0.4593\n",
            "Epoch 426/500\n",
            "24/24 [==============================] - 0s 4ms/step - loss: 1.1780 - accuracy: 0.4790 - val_loss: 1.2132 - val_accuracy: 0.4600\n",
            "Epoch 427/500\n",
            "24/24 [==============================] - 0s 4ms/step - loss: 1.1787 - accuracy: 0.4819 - val_loss: 1.2124 - val_accuracy: 0.4586\n",
            "Epoch 428/500\n",
            "24/24 [==============================] - 0s 3ms/step - loss: 1.1772 - accuracy: 0.4790 - val_loss: 1.2129 - val_accuracy: 0.4586\n",
            "Epoch 429/500\n",
            "24/24 [==============================] - 0s 3ms/step - loss: 1.1771 - accuracy: 0.4814 - val_loss: 1.2121 - val_accuracy: 0.4562\n",
            "Epoch 430/500\n",
            "24/24 [==============================] - 0s 5ms/step - loss: 1.1781 - accuracy: 0.4770 - val_loss: 1.2128 - val_accuracy: 0.4579\n",
            "Epoch 431/500\n",
            "24/24 [==============================] - 0s 3ms/step - loss: 1.1775 - accuracy: 0.4802 - val_loss: 1.2123 - val_accuracy: 0.4589\n",
            "Epoch 432/500\n",
            "24/24 [==============================] - 0s 3ms/step - loss: 1.1774 - accuracy: 0.4810 - val_loss: 1.2130 - val_accuracy: 0.4579\n",
            "Epoch 433/500\n",
            "24/24 [==============================] - 0s 4ms/step - loss: 1.1771 - accuracy: 0.4800 - val_loss: 1.2126 - val_accuracy: 0.4576\n",
            "Epoch 434/500\n",
            "24/24 [==============================] - 0s 3ms/step - loss: 1.1771 - accuracy: 0.4814 - val_loss: 1.2119 - val_accuracy: 0.4548\n",
            "Epoch 435/500\n",
            "24/24 [==============================] - 0s 4ms/step - loss: 1.1786 - accuracy: 0.4810 - val_loss: 1.2139 - val_accuracy: 0.4572\n",
            "Epoch 436/500\n",
            "24/24 [==============================] - 0s 4ms/step - loss: 1.1779 - accuracy: 0.4810 - val_loss: 1.2110 - val_accuracy: 0.4569\n",
            "Epoch 437/500\n",
            "24/24 [==============================] - 0s 4ms/step - loss: 1.1774 - accuracy: 0.4846 - val_loss: 1.2131 - val_accuracy: 0.4552\n",
            "Epoch 438/500\n",
            "24/24 [==============================] - 0s 4ms/step - loss: 1.1777 - accuracy: 0.4816 - val_loss: 1.2109 - val_accuracy: 0.4541\n",
            "Epoch 439/500\n",
            "24/24 [==============================] - 0s 3ms/step - loss: 1.1790 - accuracy: 0.4782 - val_loss: 1.2118 - val_accuracy: 0.4600\n",
            "Epoch 440/500\n",
            "24/24 [==============================] - 0s 4ms/step - loss: 1.1779 - accuracy: 0.4804 - val_loss: 1.2115 - val_accuracy: 0.4528\n",
            "Epoch 441/500\n",
            "24/24 [==============================] - 0s 4ms/step - loss: 1.1774 - accuracy: 0.4817 - val_loss: 1.2124 - val_accuracy: 0.4579\n",
            "Epoch 442/500\n",
            "24/24 [==============================] - 0s 4ms/step - loss: 1.1775 - accuracy: 0.4760 - val_loss: 1.2118 - val_accuracy: 0.4593\n",
            "Epoch 443/500\n",
            "24/24 [==============================] - 0s 4ms/step - loss: 1.1770 - accuracy: 0.4819 - val_loss: 1.2116 - val_accuracy: 0.4562\n",
            "Epoch 444/500\n",
            "24/24 [==============================] - 0s 4ms/step - loss: 1.1779 - accuracy: 0.4819 - val_loss: 1.2133 - val_accuracy: 0.4569\n",
            "Epoch 445/500\n",
            "24/24 [==============================] - 0s 4ms/step - loss: 1.1769 - accuracy: 0.4788 - val_loss: 1.2114 - val_accuracy: 0.4562\n",
            "Epoch 446/500\n",
            "24/24 [==============================] - 0s 4ms/step - loss: 1.1778 - accuracy: 0.4773 - val_loss: 1.2129 - val_accuracy: 0.4600\n",
            "Epoch 447/500\n",
            "24/24 [==============================] - 0s 4ms/step - loss: 1.1773 - accuracy: 0.4816 - val_loss: 1.2124 - val_accuracy: 0.4603\n",
            "Epoch 448/500\n",
            "24/24 [==============================] - 0s 4ms/step - loss: 1.1769 - accuracy: 0.4787 - val_loss: 1.2117 - val_accuracy: 0.4583\n",
            "Epoch 449/500\n",
            "24/24 [==============================] - 0s 3ms/step - loss: 1.1774 - accuracy: 0.4812 - val_loss: 1.2125 - val_accuracy: 0.4576\n",
            "Epoch 450/500\n",
            "24/24 [==============================] - 0s 4ms/step - loss: 1.1774 - accuracy: 0.4775 - val_loss: 1.2128 - val_accuracy: 0.4593\n",
            "Epoch 451/500\n",
            "24/24 [==============================] - 0s 3ms/step - loss: 1.1771 - accuracy: 0.4819 - val_loss: 1.2119 - val_accuracy: 0.4576\n",
            "Epoch 452/500\n",
            "24/24 [==============================] - 0s 4ms/step - loss: 1.1774 - accuracy: 0.4765 - val_loss: 1.2136 - val_accuracy: 0.4555\n",
            "Epoch 453/500\n",
            "24/24 [==============================] - 0s 3ms/step - loss: 1.1777 - accuracy: 0.4809 - val_loss: 1.2126 - val_accuracy: 0.4562\n",
            "Epoch 454/500\n",
            "24/24 [==============================] - 0s 3ms/step - loss: 1.1781 - accuracy: 0.4799 - val_loss: 1.2123 - val_accuracy: 0.4583\n",
            "Epoch 455/500\n",
            "24/24 [==============================] - 0s 4ms/step - loss: 1.1769 - accuracy: 0.4814 - val_loss: 1.2140 - val_accuracy: 0.4572\n",
            "Epoch 456/500\n",
            "24/24 [==============================] - 0s 4ms/step - loss: 1.1775 - accuracy: 0.4805 - val_loss: 1.2128 - val_accuracy: 0.4586\n",
            "Epoch 457/500\n",
            "24/24 [==============================] - 0s 4ms/step - loss: 1.1767 - accuracy: 0.4785 - val_loss: 1.2129 - val_accuracy: 0.4576\n",
            "Epoch 458/500\n",
            "24/24 [==============================] - 0s 4ms/step - loss: 1.1769 - accuracy: 0.4783 - val_loss: 1.2125 - val_accuracy: 0.4579\n",
            "Epoch 459/500\n",
            "24/24 [==============================] - 0s 4ms/step - loss: 1.1778 - accuracy: 0.4800 - val_loss: 1.2119 - val_accuracy: 0.4586\n",
            "Epoch 460/500\n",
            "24/24 [==============================] - 0s 3ms/step - loss: 1.1768 - accuracy: 0.4790 - val_loss: 1.2117 - val_accuracy: 0.4583\n",
            "Epoch 461/500\n",
            "24/24 [==============================] - 0s 4ms/step - loss: 1.1767 - accuracy: 0.4822 - val_loss: 1.2125 - val_accuracy: 0.4607\n",
            "Epoch 462/500\n",
            "24/24 [==============================] - 0s 3ms/step - loss: 1.1772 - accuracy: 0.4814 - val_loss: 1.2117 - val_accuracy: 0.4589\n",
            "Epoch 463/500\n",
            "24/24 [==============================] - 0s 4ms/step - loss: 1.1762 - accuracy: 0.4812 - val_loss: 1.2122 - val_accuracy: 0.4579\n",
            "Epoch 464/500\n",
            "24/24 [==============================] - 0s 4ms/step - loss: 1.1772 - accuracy: 0.4773 - val_loss: 1.2120 - val_accuracy: 0.4583\n",
            "Epoch 465/500\n",
            "24/24 [==============================] - 0s 4ms/step - loss: 1.1771 - accuracy: 0.4782 - val_loss: 1.2131 - val_accuracy: 0.4569\n",
            "Epoch 466/500\n",
            "24/24 [==============================] - 0s 3ms/step - loss: 1.1765 - accuracy: 0.4824 - val_loss: 1.2123 - val_accuracy: 0.4572\n",
            "Epoch 467/500\n",
            "24/24 [==============================] - 0s 4ms/step - loss: 1.1763 - accuracy: 0.4794 - val_loss: 1.2123 - val_accuracy: 0.4583\n",
            "Epoch 468/500\n",
            "24/24 [==============================] - 0s 3ms/step - loss: 1.1769 - accuracy: 0.4797 - val_loss: 1.2131 - val_accuracy: 0.4562\n",
            "Epoch 469/500\n",
            "24/24 [==============================] - 0s 4ms/step - loss: 1.1768 - accuracy: 0.4814 - val_loss: 1.2121 - val_accuracy: 0.4596\n",
            "Epoch 470/500\n",
            "24/24 [==============================] - 0s 3ms/step - loss: 1.1767 - accuracy: 0.4794 - val_loss: 1.2120 - val_accuracy: 0.4565\n",
            "Epoch 471/500\n",
            "24/24 [==============================] - 0s 3ms/step - loss: 1.1769 - accuracy: 0.4805 - val_loss: 1.2115 - val_accuracy: 0.4600\n",
            "Epoch 472/500\n",
            "24/24 [==============================] - 0s 4ms/step - loss: 1.1778 - accuracy: 0.4821 - val_loss: 1.2134 - val_accuracy: 0.4569\n",
            "Epoch 473/500\n",
            "24/24 [==============================] - 0s 3ms/step - loss: 1.1768 - accuracy: 0.4799 - val_loss: 1.2116 - val_accuracy: 0.4593\n",
            "Epoch 474/500\n",
            "24/24 [==============================] - 0s 4ms/step - loss: 1.1762 - accuracy: 0.4804 - val_loss: 1.2116 - val_accuracy: 0.4593\n",
            "Epoch 475/500\n",
            "24/24 [==============================] - 0s 6ms/step - loss: 1.1768 - accuracy: 0.4827 - val_loss: 1.2130 - val_accuracy: 0.4603\n",
            "Epoch 476/500\n",
            "24/24 [==============================] - 0s 6ms/step - loss: 1.1762 - accuracy: 0.4827 - val_loss: 1.2114 - val_accuracy: 0.4569\n",
            "Epoch 477/500\n",
            "24/24 [==============================] - 0s 7ms/step - loss: 1.1762 - accuracy: 0.4831 - val_loss: 1.2130 - val_accuracy: 0.4586\n",
            "Epoch 478/500\n",
            "24/24 [==============================] - 0s 7ms/step - loss: 1.1766 - accuracy: 0.4812 - val_loss: 1.2122 - val_accuracy: 0.4569\n",
            "Epoch 479/500\n",
            "24/24 [==============================] - 0s 7ms/step - loss: 1.1761 - accuracy: 0.4812 - val_loss: 1.2135 - val_accuracy: 0.4586\n",
            "Epoch 480/500\n",
            "24/24 [==============================] - 0s 7ms/step - loss: 1.1770 - accuracy: 0.4768 - val_loss: 1.2117 - val_accuracy: 0.4607\n",
            "Epoch 481/500\n",
            "24/24 [==============================] - 0s 7ms/step - loss: 1.1767 - accuracy: 0.4822 - val_loss: 1.2123 - val_accuracy: 0.4617\n",
            "Epoch 482/500\n",
            "24/24 [==============================] - 0s 7ms/step - loss: 1.1764 - accuracy: 0.4799 - val_loss: 1.2116 - val_accuracy: 0.4593\n",
            "Epoch 483/500\n",
            "24/24 [==============================] - 0s 7ms/step - loss: 1.1765 - accuracy: 0.4821 - val_loss: 1.2116 - val_accuracy: 0.4569\n",
            "Epoch 484/500\n",
            "24/24 [==============================] - 0s 6ms/step - loss: 1.1769 - accuracy: 0.4788 - val_loss: 1.2138 - val_accuracy: 0.4559\n",
            "Epoch 485/500\n",
            "24/24 [==============================] - 0s 6ms/step - loss: 1.1771 - accuracy: 0.4816 - val_loss: 1.2112 - val_accuracy: 0.4569\n",
            "Epoch 486/500\n",
            "24/24 [==============================] - 0s 6ms/step - loss: 1.1769 - accuracy: 0.4827 - val_loss: 1.2118 - val_accuracy: 0.4576\n",
            "Epoch 487/500\n",
            "24/24 [==============================] - 0s 8ms/step - loss: 1.1759 - accuracy: 0.4787 - val_loss: 1.2117 - val_accuracy: 0.4586\n",
            "Epoch 488/500\n",
            "24/24 [==============================] - 0s 7ms/step - loss: 1.1763 - accuracy: 0.4777 - val_loss: 1.2116 - val_accuracy: 0.4589\n",
            "Epoch 489/500\n",
            "24/24 [==============================] - 0s 7ms/step - loss: 1.1767 - accuracy: 0.4804 - val_loss: 1.2119 - val_accuracy: 0.4579\n",
            "Epoch 490/500\n",
            "24/24 [==============================] - 0s 6ms/step - loss: 1.1763 - accuracy: 0.4836 - val_loss: 1.2114 - val_accuracy: 0.4610\n",
            "Epoch 491/500\n",
            "24/24 [==============================] - 0s 6ms/step - loss: 1.1766 - accuracy: 0.4778 - val_loss: 1.2114 - val_accuracy: 0.4603\n",
            "Epoch 492/500\n",
            "24/24 [==============================] - 0s 8ms/step - loss: 1.1759 - accuracy: 0.4826 - val_loss: 1.2119 - val_accuracy: 0.4565\n",
            "Epoch 493/500\n",
            "24/24 [==============================] - 0s 8ms/step - loss: 1.1766 - accuracy: 0.4817 - val_loss: 1.2120 - val_accuracy: 0.4596\n",
            "Epoch 494/500\n",
            "24/24 [==============================] - 0s 7ms/step - loss: 1.1772 - accuracy: 0.4816 - val_loss: 1.2113 - val_accuracy: 0.4572\n",
            "Epoch 495/500\n",
            "24/24 [==============================] - 0s 7ms/step - loss: 1.1764 - accuracy: 0.4822 - val_loss: 1.2128 - val_accuracy: 0.4589\n",
            "Epoch 496/500\n",
            "24/24 [==============================] - 0s 4ms/step - loss: 1.1759 - accuracy: 0.4819 - val_loss: 1.2119 - val_accuracy: 0.4600\n",
            "Epoch 497/500\n",
            "24/24 [==============================] - 0s 7ms/step - loss: 1.1765 - accuracy: 0.4800 - val_loss: 1.2122 - val_accuracy: 0.4617\n",
            "Epoch 498/500\n",
            "24/24 [==============================] - 0s 7ms/step - loss: 1.1758 - accuracy: 0.4816 - val_loss: 1.2112 - val_accuracy: 0.4576\n",
            "Epoch 499/500\n",
            "24/24 [==============================] - 0s 7ms/step - loss: 1.1767 - accuracy: 0.4816 - val_loss: 1.2116 - val_accuracy: 0.4589\n",
            "Epoch 500/500\n",
            "24/24 [==============================] - 0s 8ms/step - loss: 1.1762 - accuracy: 0.4826 - val_loss: 1.2117 - val_accuracy: 0.4576\n"
          ]
        },
        {
          "output_type": "execute_result",
          "data": {
            "text/plain": [
              "<keras.callbacks.History at 0x7f3647fefd00>"
            ]
          },
          "metadata": {},
          "execution_count": 47
        }
      ]
    },
    {
      "cell_type": "code",
      "source": [
        "metrics = pd.DataFrame(ai_brain.history.history)"
      ],
      "metadata": {
        "id": "G3PesLPSWuaw"
      },
      "execution_count": 48,
      "outputs": []
    },
    {
      "cell_type": "code",
      "source": [
        "metrics.head()"
      ],
      "metadata": {
        "colab": {
          "base_uri": "https://localhost:8080/",
          "height": 206
        },
        "id": "SJqgyBg0W_FY",
        "outputId": "dfd41b13-0b15-450b-c8dc-788c4a0cb53a"
      },
      "execution_count": 49,
      "outputs": [
        {
          "output_type": "execute_result",
          "data": {
            "text/plain": [
              "       loss  accuracy  val_loss  val_accuracy\n",
              "0  2.226388  0.283514  1.881491      0.286499\n",
              "1  1.748492  0.289438  1.591611      0.296118\n",
              "2  1.532960  0.317197  1.464365      0.315699\n",
              "3  1.437158  0.323460  1.407366      0.320852\n",
              "4  1.391287  0.328538  1.377658      0.323944"
            ],
            "text/html": [
              "\n",
              "  <div id=\"df-de160d65-1f04-466c-a2ba-6b78226bfc55\" class=\"colab-df-container\">\n",
              "    <div>\n",
              "<style scoped>\n",
              "    .dataframe tbody tr th:only-of-type {\n",
              "        vertical-align: middle;\n",
              "    }\n",
              "\n",
              "    .dataframe tbody tr th {\n",
              "        vertical-align: top;\n",
              "    }\n",
              "\n",
              "    .dataframe thead th {\n",
              "        text-align: right;\n",
              "    }\n",
              "</style>\n",
              "<table border=\"1\" class=\"dataframe\">\n",
              "  <thead>\n",
              "    <tr style=\"text-align: right;\">\n",
              "      <th></th>\n",
              "      <th>loss</th>\n",
              "      <th>accuracy</th>\n",
              "      <th>val_loss</th>\n",
              "      <th>val_accuracy</th>\n",
              "    </tr>\n",
              "  </thead>\n",
              "  <tbody>\n",
              "    <tr>\n",
              "      <th>0</th>\n",
              "      <td>2.226388</td>\n",
              "      <td>0.283514</td>\n",
              "      <td>1.881491</td>\n",
              "      <td>0.286499</td>\n",
              "    </tr>\n",
              "    <tr>\n",
              "      <th>1</th>\n",
              "      <td>1.748492</td>\n",
              "      <td>0.289438</td>\n",
              "      <td>1.591611</td>\n",
              "      <td>0.296118</td>\n",
              "    </tr>\n",
              "    <tr>\n",
              "      <th>2</th>\n",
              "      <td>1.532960</td>\n",
              "      <td>0.317197</td>\n",
              "      <td>1.464365</td>\n",
              "      <td>0.315699</td>\n",
              "    </tr>\n",
              "    <tr>\n",
              "      <th>3</th>\n",
              "      <td>1.437158</td>\n",
              "      <td>0.323460</td>\n",
              "      <td>1.407366</td>\n",
              "      <td>0.320852</td>\n",
              "    </tr>\n",
              "    <tr>\n",
              "      <th>4</th>\n",
              "      <td>1.391287</td>\n",
              "      <td>0.328538</td>\n",
              "      <td>1.377658</td>\n",
              "      <td>0.323944</td>\n",
              "    </tr>\n",
              "  </tbody>\n",
              "</table>\n",
              "</div>\n",
              "    <div class=\"colab-df-buttons\">\n",
              "\n",
              "  <div class=\"colab-df-container\">\n",
              "    <button class=\"colab-df-convert\" onclick=\"convertToInteractive('df-de160d65-1f04-466c-a2ba-6b78226bfc55')\"\n",
              "            title=\"Convert this dataframe to an interactive table.\"\n",
              "            style=\"display:none;\">\n",
              "\n",
              "  <svg xmlns=\"http://www.w3.org/2000/svg\" height=\"24px\" viewBox=\"0 -960 960 960\">\n",
              "    <path d=\"M120-120v-720h720v720H120Zm60-500h600v-160H180v160Zm220 220h160v-160H400v160Zm0 220h160v-160H400v160ZM180-400h160v-160H180v160Zm440 0h160v-160H620v160ZM180-180h160v-160H180v160Zm440 0h160v-160H620v160Z\"/>\n",
              "  </svg>\n",
              "    </button>\n",
              "\n",
              "  <style>\n",
              "    .colab-df-container {\n",
              "      display:flex;\n",
              "      gap: 12px;\n",
              "    }\n",
              "\n",
              "    .colab-df-convert {\n",
              "      background-color: #E8F0FE;\n",
              "      border: none;\n",
              "      border-radius: 50%;\n",
              "      cursor: pointer;\n",
              "      display: none;\n",
              "      fill: #1967D2;\n",
              "      height: 32px;\n",
              "      padding: 0 0 0 0;\n",
              "      width: 32px;\n",
              "    }\n",
              "\n",
              "    .colab-df-convert:hover {\n",
              "      background-color: #E2EBFA;\n",
              "      box-shadow: 0px 1px 2px rgba(60, 64, 67, 0.3), 0px 1px 3px 1px rgba(60, 64, 67, 0.15);\n",
              "      fill: #174EA6;\n",
              "    }\n",
              "\n",
              "    .colab-df-buttons div {\n",
              "      margin-bottom: 4px;\n",
              "    }\n",
              "\n",
              "    [theme=dark] .colab-df-convert {\n",
              "      background-color: #3B4455;\n",
              "      fill: #D2E3FC;\n",
              "    }\n",
              "\n",
              "    [theme=dark] .colab-df-convert:hover {\n",
              "      background-color: #434B5C;\n",
              "      box-shadow: 0px 1px 3px 1px rgba(0, 0, 0, 0.15);\n",
              "      filter: drop-shadow(0px 1px 2px rgba(0, 0, 0, 0.3));\n",
              "      fill: #FFFFFF;\n",
              "    }\n",
              "  </style>\n",
              "\n",
              "    <script>\n",
              "      const buttonEl =\n",
              "        document.querySelector('#df-de160d65-1f04-466c-a2ba-6b78226bfc55 button.colab-df-convert');\n",
              "      buttonEl.style.display =\n",
              "        google.colab.kernel.accessAllowed ? 'block' : 'none';\n",
              "\n",
              "      async function convertToInteractive(key) {\n",
              "        const element = document.querySelector('#df-de160d65-1f04-466c-a2ba-6b78226bfc55');\n",
              "        const dataTable =\n",
              "          await google.colab.kernel.invokeFunction('convertToInteractive',\n",
              "                                                    [key], {});\n",
              "        if (!dataTable) return;\n",
              "\n",
              "        const docLinkHtml = 'Like what you see? Visit the ' +\n",
              "          '<a target=\"_blank\" href=https://colab.research.google.com/notebooks/data_table.ipynb>data table notebook</a>'\n",
              "          + ' to learn more about interactive tables.';\n",
              "        element.innerHTML = '';\n",
              "        dataTable['output_type'] = 'display_data';\n",
              "        await google.colab.output.renderOutput(dataTable, element);\n",
              "        const docLink = document.createElement('div');\n",
              "        docLink.innerHTML = docLinkHtml;\n",
              "        element.appendChild(docLink);\n",
              "      }\n",
              "    </script>\n",
              "  </div>\n",
              "\n",
              "\n",
              "<div id=\"df-abd92edb-fcf8-4d6f-855e-976bc3e8cddf\">\n",
              "  <button class=\"colab-df-quickchart\" onclick=\"quickchart('df-abd92edb-fcf8-4d6f-855e-976bc3e8cddf')\"\n",
              "            title=\"Suggest charts.\"\n",
              "            style=\"display:none;\">\n",
              "\n",
              "<svg xmlns=\"http://www.w3.org/2000/svg\" height=\"24px\"viewBox=\"0 0 24 24\"\n",
              "     width=\"24px\">\n",
              "    <g>\n",
              "        <path d=\"M19 3H5c-1.1 0-2 .9-2 2v14c0 1.1.9 2 2 2h14c1.1 0 2-.9 2-2V5c0-1.1-.9-2-2-2zM9 17H7v-7h2v7zm4 0h-2V7h2v10zm4 0h-2v-4h2v4z\"/>\n",
              "    </g>\n",
              "</svg>\n",
              "  </button>\n",
              "\n",
              "<style>\n",
              "  .colab-df-quickchart {\n",
              "    background-color: #E8F0FE;\n",
              "    border: none;\n",
              "    border-radius: 50%;\n",
              "    cursor: pointer;\n",
              "    display: none;\n",
              "    fill: #1967D2;\n",
              "    height: 32px;\n",
              "    padding: 0 0 0 0;\n",
              "    width: 32px;\n",
              "  }\n",
              "\n",
              "  .colab-df-quickchart:hover {\n",
              "    background-color: #E2EBFA;\n",
              "    box-shadow: 0px 1px 2px rgba(60, 64, 67, 0.3), 0px 1px 3px 1px rgba(60, 64, 67, 0.15);\n",
              "    fill: #174EA6;\n",
              "  }\n",
              "\n",
              "  [theme=dark] .colab-df-quickchart {\n",
              "    background-color: #3B4455;\n",
              "    fill: #D2E3FC;\n",
              "  }\n",
              "\n",
              "  [theme=dark] .colab-df-quickchart:hover {\n",
              "    background-color: #434B5C;\n",
              "    box-shadow: 0px 1px 3px 1px rgba(0, 0, 0, 0.15);\n",
              "    filter: drop-shadow(0px 1px 2px rgba(0, 0, 0, 0.3));\n",
              "    fill: #FFFFFF;\n",
              "  }\n",
              "</style>\n",
              "\n",
              "  <script>\n",
              "    async function quickchart(key) {\n",
              "      const charts = await google.colab.kernel.invokeFunction(\n",
              "          'suggestCharts', [key], {});\n",
              "    }\n",
              "    (() => {\n",
              "      let quickchartButtonEl =\n",
              "        document.querySelector('#df-abd92edb-fcf8-4d6f-855e-976bc3e8cddf button');\n",
              "      quickchartButtonEl.style.display =\n",
              "        google.colab.kernel.accessAllowed ? 'block' : 'none';\n",
              "    })();\n",
              "  </script>\n",
              "</div>\n",
              "    </div>\n",
              "  </div>\n"
            ]
          },
          "metadata": {},
          "execution_count": 49
        }
      ]
    },
    {
      "cell_type": "code",
      "source": [
        "early_stop = EarlyStopping(monitor='val_loss', patience=2)"
      ],
      "metadata": {
        "id": "dA_EaivcXBYG"
      },
      "execution_count": 50,
      "outputs": []
    },
    {
      "cell_type": "code",
      "source": [
        "metrics[['accuracy','val_accuracy']].plot()"
      ],
      "metadata": {
        "colab": {
          "base_uri": "https://localhost:8080/",
          "height": 447
        },
        "id": "U2e8dVisXEU8",
        "outputId": "6f2f5d5f-a0ab-4c42-db13-3bb801523f91"
      },
      "execution_count": 51,
      "outputs": [
        {
          "output_type": "execute_result",
          "data": {
            "text/plain": [
              "<Axes: >"
            ]
          },
          "metadata": {},
          "execution_count": 51
        },
        {
          "output_type": "display_data",
          "data": {
            "text/plain": [
              "<Figure size 640x480 with 1 Axes>"
            ],
            "image/png": "[encoded data removed]"
          },
          "metadata": {}
        }
      ]
    },
    {
      "cell_type": "code",
      "source": [
        "metrics[['loss','val_loss']].plot()"
      ],
      "metadata": {
        "colab": {
          "base_uri": "https://localhost:8080/",
          "height": 447
        },
        "id": "PJeShlHEXIHR",
        "outputId": "9fc53c41-863c-49d4-bb31-db2612d9e703"
      },
      "execution_count": 52,
      "outputs": [
        {
          "output_type": "execute_result",
          "data": {
            "text/plain": [
              "<Axes: >"
            ]
          },
          "metadata": {},
          "execution_count": 52
        },
        {
          "output_type": "display_data",
          "data": {
            "text/plain": [
              "<Figure size 640x480 with 1 Axes>"
            ],
            "image/png": "[encoded data removed]"
          },
          "metadata": {}
        }
      ]
    },
    {
      "cell_type": "code",
      "source": [
        "# Sequential predict_classes function is deprecated\n",
        "# predictions = ai_brain.predict_classes(X_test)\n",
        "x_test_predictions = np.argmax(ai_brain.predict(X_test_scaled), axis=1)"
      ],
      "metadata": {
        "colab": {
          "base_uri": "https://localhost:8080/"
        },
        "id": "otftCjfyXLJc",
        "outputId": "5e27cd41-87a0-4615-dbf1-f52a69a9f5e3"
      },
      "execution_count": 53,
      "outputs": [
        {
          "output_type": "stream",
          "name": "stdout",
          "text": [
            "91/91 [==============================] - 0s 2ms/step\n"
          ]
        }
      ]
    },
    {
      "cell_type": "code",
      "source": [
        "x_test_predictions.shape"
      ],
      "metadata": {
        "colab": {
          "base_uri": "https://localhost:8080/"
        },
        "id": "Ikby33rbXVlU",
        "outputId": "e540d33d-7fb2-4295-db57-9c5982d488bf"
      },
      "execution_count": 54,
      "outputs": [
        {
          "output_type": "execute_result",
          "data": {
            "text/plain": [
              "(2911,)"
            ]
          },
          "metadata": {},
          "execution_count": 54
        }
      ]
    },
    {
      "cell_type": "code",
      "source": [
        "y_test_truevalue = np.argmax(y_test,axis=1)"
      ],
      "metadata": {
        "id": "pL6VyjlLXZfC"
      },
      "execution_count": 55,
      "outputs": []
    },
    {
      "cell_type": "code",
      "source": [
        "y_test_truevalue.shape"
      ],
      "metadata": {
        "colab": {
          "base_uri": "https://localhost:8080/"
        },
        "id": "W7v-CIMKXddt",
        "outputId": "48202145-730f-4f0d-dba9-1eccd0bd6cca"
      },
      "execution_count": 56,
      "outputs": [
        {
          "output_type": "execute_result",
          "data": {
            "text/plain": [
              "(2911,)"
            ]
          },
          "metadata": {},
          "execution_count": 56
        }
      ]
    },
    {
      "cell_type": "code",
      "source": [
        "print(confusion_matrix(y_test_truevalue,x_test_predictions))"
      ],
      "metadata": {
        "colab": {
          "base_uri": "https://localhost:8080/"
        },
        "id": "zunJ3xwXXfq1",
        "outputId": "cf1553b7-c103-42f5-be32-1b83524dc00a"
      },
      "execution_count": 57,
      "outputs": [
        {
          "output_type": "stream",
          "name": "stdout",
          "text": [
            "[[361 127 110 159]\n",
            " [238 143 203 102]\n",
            " [137 103 358  88]\n",
            " [192  67  53 470]]\n"
          ]
        }
      ]
    },
    {
      "cell_type": "code",
      "source": [
        "print(classification_report(y_test_truevalue,x_test_predictions))"
      ],
      "metadata": {
        "colab": {
          "base_uri": "https://localhost:8080/"
        },
        "id": "yZUXFt8OXjOb",
        "outputId": "2ab6dc21-f146-405d-a2c5-1464a276689e"
      },
      "execution_count": 58,
      "outputs": [
        {
          "output_type": "stream",
          "name": "stdout",
          "text": [
            "              precision    recall  f1-score   support\n",
            "\n",
            "           0       0.39      0.48      0.43       757\n",
            "           1       0.33      0.21      0.25       686\n",
            "           2       0.49      0.52      0.51       686\n",
            "           3       0.57      0.60      0.59       782\n",
            "\n",
            "    accuracy                           0.46      2911\n",
            "   macro avg       0.45      0.45      0.44      2911\n",
            "weighted avg       0.45      0.46      0.45      2911\n",
            "\n"
          ]
        }
      ]
    },
    {
      "cell_type": "code",
      "source": [
        "# Saving the Model\n",
        "ai_brain.save('customer_classification_model.h5')"
      ],
      "metadata": {
        "id": "Yfm2xFk-Xk67"
      },
      "execution_count": 59,
      "outputs": []
    },
    {
      "cell_type": "code",
      "source": [
        "# Saving the data\n",
        "with open('customer_data.pickle', 'wb') as fh:\n",
        "   pickle.dump([X_train_scaled,y_train,X_test_scaled,y_test,customers_1,customer_df_cleaned,scaler_age,enc,one_hot_enc,le], fh)\n"
      ],
      "metadata": {
        "id": "fsZDSaFDXoyZ"
      },
      "execution_count": 60,
      "outputs": []
    },
    {
      "cell_type": "code",
      "source": [
        "# Loading the Model\n",
        "ai_brain = load_model('customer_classification_model.h5')"
      ],
      "metadata": {
        "id": "P5TvbPezX2Ja"
      },
      "execution_count": 61,
      "outputs": []
    },
    {
      "cell_type": "code",
      "source": [
        "# Loading the data\n",
        "with open('customer_data.pickle', 'rb') as fh:\n",
        "     [X_train_scaled,y_train,X_test_scaled,y_test,customers_1,customer_df_cleaned,scaler_age,enc,one_hot_enc,le]=pickle.load(fh)"
      ],
      "metadata": {
        "id": "YHWl4NQwYNEj"
      },
      "execution_count": 62,
      "outputs": []
    },
    {
      "cell_type": "code",
      "source": [
        "x_single_prediction = np.argmax(ai_brain.predict(X_test_scaled[1:2,:]), axis=1)"
      ],
      "metadata": {
        "colab": {
          "base_uri": "https://localhost:8080/"
        },
        "id": "dwhpQd2XYU0W",
        "outputId": "811879a6-7f01-46fe-8d67-debda99ad02e"
      },
      "execution_count": 63,
      "outputs": [
        {
          "output_type": "stream",
          "name": "stdout",
          "text": [
            "1/1 [==============================] - 0s 51ms/step\n"
          ]
        }
      ]
    },
    {
      "cell_type": "code",
      "source": [
        "print(x_single_prediction)"
      ],
      "metadata": {
        "colab": {
          "base_uri": "https://localhost:8080/"
        },
        "id": "t5Y6xrKKYZPR",
        "outputId": "44b91829-bfd0-4d9c-d720-334d978efb7b"
      },
      "execution_count": 64,
      "outputs": [
        {
          "output_type": "stream",
          "name": "stdout",
          "text": [
            "[2]\n"
          ]
        }
      ]
    },
    {
      "cell_type": "code",
      "source": [
        "print(le.inverse_transform(x_single_prediction))"
      ],
      "metadata": {
        "colab": {
          "base_uri": "https://localhost:8080/"
        },
        "id": "-rjVl3PxYbL9",
        "outputId": "7e3ad89a-d978-4040-d056-aae81714403a"
      },
      "execution_count": 65,
      "outputs": [
        {
          "output_type": "stream",
          "name": "stdout",
          "text": [
            "['C']\n"
          ]
        }
      ]
    }
  ]
}